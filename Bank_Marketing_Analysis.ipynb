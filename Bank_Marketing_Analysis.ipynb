{
 "cells": [
  {
   "cell_type": "markdown",
   "metadata": {},
   "source": [
    "# Prediction of term deposit subscription"
   ]
  },
  {
   "cell_type": "markdown",
   "metadata": {},
   "source": [
    "## 1. Business Problem Understanding"
   ]
  },
  {
   "cell_type": "markdown",
   "metadata": {},
   "source": [
    "The data is related with direct marketing campaigns of a Portuguese banking institution. The marketing campaigns were based on phone calls. Often, more than one contact to the same client was required, in order to access if the product (bank term deposit) would be ('yes') or not ('no') subscribed. "
   ]
  },
  {
   "cell_type": "markdown",
   "metadata": {},
   "source": [
    "## 2. Data Understanding"
   ]
  },
  {
   "cell_type": "markdown",
   "metadata": {},
   "source": [
    "**[FILE USED]**\n",
    "<BR>\n",
    "1) bank-additional-full.csv with all examples (41188) and 20 inputs, ordered by date (from May 2008 to November 2010), very close to the data analyzed in [Moro et al., 2014]\n",
    "<br>\n",
    "2) bank-additional.csv with 10% of the examples (4119), randomly selected from 1), and 20 inputs."
   ]
  },
  {
   "cell_type": "markdown",
   "metadata": {},
   "source": [
    "**[VARIABLE DESCRIPTION]**\n",
    "<br>\n",
    "1 - age : client's age(numeric)\n",
    "<br>\n",
    "2 - job : type of job (categorical: 'admin.', 'blue-collar', 'entrepreneur', 'housemaid', 'management', 'retired', 'self-employed', 'services', 'student', 'technician', 'unemployed', 'unknown')\n",
    "<br>\n",
    "3 - marital : marital status (categorical: 'divorced', 'married', 'single', 'unknown' ; note: 'divorced' means divorced or widowed)\n",
    "<br>\n",
    "4 - education : (categorical: 'basic.4y', 'basic.6y', 'basic.9y', 'high.school', 'illiterate', 'professional.course', 'university.degree', 'unknown')\n",
    "<br>\n",
    "5 - default: has credit in default? (categorical: 'no', 'yes', 'unknown')\n",
    "<br>\n",
    "6 - housing: has housing loan? (categorical: 'no', 'yes', 'unknown')\n",
    "<br>\n",
    "7 - loan: has personal loan? (categorical: 'no', 'yes', 'unknown')\n",
    "<br>\n",
    "8 - contact: contact communication type (categorical: 'cellular', 'telephone')\n",
    "<br>\n",
    "9 - month: last contact month of year (categorical: 'jan', 'feb', 'mar', ..., 'nov', 'dec')\n",
    "<br>\n",
    "10 - day_of_week: last contact day of the week (categorical: 'mon', 'tue', 'wed', 'thu', 'fri')\n",
    "<br>\n",
    "11 - duration: last contact duration, in seconds (numeric). Important note: this attribute highly affects the output target (e.g., if duration=0 then y='no'). Yet, the duration is not known before a call is performed. Also, after the end of the call y is obviously known. Thus, this input should only be included for benchmark purposes and should be discarded if the intention is to have a realistic predictive model.\n",
    "<br>\n",
    "12 - campaign: number of contacts performed during this campaign and for this client (numeric, includes last contact)\n",
    "<br>\n",
    "13 - pdays: number of days that passed by after the client was last contacted from a previous campaign (numeric; 999 means client was not previously contacted)\n",
    "<br>\n",
    "14 - previous: number of contacts performed before this campaign and for this client (numeric)\n",
    "<br>\n",
    "15 - poutcome: outcome of the previous marketing campaign (categorical: 'failure','nonexistent','success')\n",
    "<br>\n",
    "16 - emp.var.rate: employment variation rate - quarterly indicator (numeric)\n",
    "<br>\n",
    "17 - cons.price.idx: consumer price index - monthly indicator (numeric)\n",
    "<br>\n",
    "18 - cons.conf.idx: consumer confidence index - monthly indicator (numeric)\n",
    "<br>\n",
    "19 - euribor3m: euribor 3 month rate - daily indicator (numeric)\n",
    "<br>\n",
    "20 - nr.employed: number of employees - quarterly indicator (numeric)\n",
    "<br>\n",
    "<br>\n",
    "**[TARGET DESCRIPTION]**\n",
    "<br>\n",
    "1 - y - has the client subscribed a term deposit? (binary: 'yes','no')"
   ]
  },
  {
   "cell_type": "markdown",
   "metadata": {},
   "source": [
    "**[FEATURE]**\n",
    "<br>\n",
    "Categorical: job, marital, education, default, housing, loan, contact, month, day_of_week, poutcome\n",
    "<br>\n",
    "Numeric: age, campaign, pdays, previous, emp.var.rate, cons.price.idx, cons.conf.idx, euribor3m, nr.employed (duration excluded due to its highly affect to target)\n",
    "\n",
    "**[TARGET]**\n",
    "<br>\n",
    "y (0 or 1)"
   ]
  },
  {
   "cell_type": "markdown",
   "metadata": {},
   "source": [
    "## 3. Data Preparation"
   ]
  },
  {
   "cell_type": "markdown",
   "metadata": {},
   "source": [
    "### 3.1 Import the libraries and read the data needed"
   ]
  },
  {
   "cell_type": "code",
   "execution_count": 4,
   "metadata": {},
   "outputs": [],
   "source": [
    "import numpy as np\n",
    "import pandas as pd\n",
    "import seaborn as sns\n",
    "import matplotlib.pyplot as plt\n",
    "%matplotlib inline"
   ]
  },
  {
   "cell_type": "markdown",
   "metadata": {},
   "source": [
    "Read the all the files needed and assign them into variables. We use bank-additional-full and bank-additional because variable in bank-full and bank didn't explained "
   ]
  },
  {
   "cell_type": "code",
   "execution_count": 5,
   "metadata": {},
   "outputs": [],
   "source": [
    "baf = pd.read_csv('bank-additional-full.csv')\n",
    "ba = pd.read_csv('bank-additional.csv')"
   ]
  },
  {
   "cell_type": "markdown",
   "metadata": {},
   "source": [
    "We need to change the target to 0 or 1 so the algorithm can understand the data"
   ]
  },
  {
   "cell_type": "code",
   "execution_count": 6,
   "metadata": {},
   "outputs": [],
   "source": [
    "baf['y'] = baf['y'].apply(lambda x: 1 if x == 'yes' else 0)\n",
    "ba['y'] = ba['y'].apply(lambda x: 1 if x == 'yes' else 0)"
   ]
  },
  {
   "cell_type": "markdown",
   "metadata": {},
   "source": [
    "### 3.2 Explore the basic statistics of the data"
   ]
  },
  {
   "cell_type": "code",
   "execution_count": null,
   "metadata": {},
   "outputs": [],
   "source": [
    "baf.head().transpose()"
   ]
  },
  {
   "cell_type": "markdown",
   "metadata": {},
   "source": [
    "Find out about the data type"
   ]
  },
  {
   "cell_type": "code",
   "execution_count": null,
   "metadata": {},
   "outputs": [],
   "source": [
    "baf.info()"
   ]
  },
  {
   "cell_type": "code",
   "execution_count": null,
   "metadata": {},
   "outputs": [],
   "source": [
    "baf.describe().transpose()"
   ]
  },
  {
   "cell_type": "markdown",
   "metadata": {},
   "source": [
    "From the basic statiscs and information about the dataset, there are 2 types of feature: numeric and categorical."
   ]
  },
  {
   "cell_type": "markdown",
   "metadata": {},
   "source": [
    "### 3.3 Exploratory Data Analysis"
   ]
  },
  {
   "cell_type": "markdown",
   "metadata": {},
   "source": [
    "What I want to see first is if the group of term-subscriber and not subscriber is balance or not"
   ]
  },
  {
   "cell_type": "code",
   "execution_count": null,
   "metadata": {},
   "outputs": [],
   "source": [
    "plt.figure(figsize=(10,6))\n",
    "sns.countplot(x='y',data = baf)\n",
    "plt.xlabel('y')\n",
    "plt.title('Distribution of y')"
   ]
  },
  {
   "cell_type": "markdown",
   "metadata": {},
   "source": [
    "It seems the distribution heavily concentrated on not subscriber"
   ]
  },
  {
   "cell_type": "markdown",
   "metadata": {},
   "source": [
    "#### 3.3.1 Numerical Feature"
   ]
  },
  {
   "cell_type": "markdown",
   "metadata": {},
   "source": [
    "**[Pdays]**\n",
    "<br>\n",
    "In statistics basic info, there is something strange with the **'pdays'** feature. The 25%, 50%,  75% quartile shows exact same value 999 (could be seen in distribution above) which means almost all proportion is 999. It seems **whether a customer subscribe a term-deposit or not is less likely affected by the days passed by after the client was last contacted from a previous campaign**"
   ]
  },
  {
   "cell_type": "code",
   "execution_count": null,
   "metadata": {},
   "outputs": [],
   "source": [
    "baf['pdays'].plot.hist()"
   ]
  },
  {
   "cell_type": "markdown",
   "metadata": {},
   "source": [
    "Because mostly the data value is 999, I think there is not much difference between 1 day of ago, or 2 days, or 3 days, or etc. So I will divide them into 2 new groups, the ones that have called by bank, and the ones that haven,t."
   ]
  },
  {
   "cell_type": "code",
   "execution_count": null,
   "metadata": {},
   "outputs": [],
   "source": [
    "baf['pdays'] = baf['pdays'].apply(lambda x: 'Not Called' if x == 999 else 'Called')"
   ]
  },
  {
   "cell_type": "markdown",
   "metadata": {},
   "source": [
    "**[Age]**\n",
    "<br>\n",
    "The average customer's age is around 35-40 and it make sense because bank will more likely contact people who mature enough to think about future investment, plus it is a low-risk investment and mature people more prefer this kind of investment rather than young people."
   ]
  },
  {
   "cell_type": "code",
   "execution_count": null,
   "metadata": {},
   "outputs": [],
   "source": [
    "plt.figure(figsize=(8,6))\n",
    "baf[baf['y']==0]['age'].hist(alpha=0.5,color='red',bins=20,label='y=0')\n",
    "baf[baf['y']==1]['age'].hist(alpha=0.5,color='blue',bins=20,label='y=1')\n",
    "plt.title(\"Customer's Age\")\n",
    "plt.xlabel('Age')\n",
    "plt.ylabel('Frequency')\n",
    "plt.legend()"
   ]
  },
  {
   "cell_type": "markdown",
   "metadata": {},
   "source": [
    "If we see the age separated based on whether the customer subscribing or no, the distributions are so overlapping! Even their mean value difference merely less than 10! I think this shows that age doesn't separate the group well enough."
   ]
  },
  {
   "cell_type": "markdown",
   "metadata": {},
   "source": [
    "**[Campaign]**\n",
    "<br>\n",
    "Number of contacts performed during this campaign and for this client mostly less than 5 and it makes sense because we shouldn't contact same people for campaigning our progroam for many times. The outliers shows it even reaches 50"
   ]
  },
  {
   "cell_type": "code",
   "execution_count": null,
   "metadata": {},
   "outputs": [],
   "source": [
    "plt.figure(figsize=(8,6))\n",
    "sns.distplot(baf['campaign'],kde=False)\n",
    "plt.title('How many times people contacted during the campaign')\n",
    "plt.xlabel('Times people contacted')\n",
    "plt.ylabel('Frequency')"
   ]
  },
  {
   "cell_type": "code",
   "execution_count": null,
   "metadata": {},
   "outputs": [],
   "source": [
    "baf[baf['campaign'] > 12]['campaign'].sum()"
   ]
  },
  {
   "cell_type": "markdown",
   "metadata": {},
   "source": [
    "**[Previous]**\n",
    "<br>\n",
    "Most of the client didn't contacted before this campaign, so I will look whether number of contact performed in previous campaign affect the customer to subsribe the term-deposit or not by seeing distribution of people who subscribed and have contacted before"
   ]
  },
  {
   "cell_type": "code",
   "execution_count": null,
   "metadata": {},
   "outputs": [],
   "source": [
    "plt.figure(figsize=(12,6))\n",
    "sns.distplot(baf['previous'],kde=False)\n",
    "plt.title('Customers based on previous contact')\n",
    "plt.xlabel('Times people contacted')\n",
    "plt.ylabel('Frequency')"
   ]
  },
  {
   "cell_type": "markdown",
   "metadata": {},
   "source": [
    "I will divide them into 2 groups, the one haven't contacted in the previous campaign, and the ones who contacted."
   ]
  },
  {
   "cell_type": "code",
   "execution_count": null,
   "metadata": {},
   "outputs": [],
   "source": [
    "baf['previous'] = baf['previous'].apply(lambda x: 'Not contacted in prev camp' if x == 0 else 'Contacted in prev camp')"
   ]
  },
  {
   "cell_type": "markdown",
   "metadata": {},
   "source": [
    "**[Consumer Confidence Index]**\n",
    "<br>\n",
    "Because it is a monthly indicator, the graph shows when is the people tend to subsribe term-deposit. Looks like no significant trend there"
   ]
  },
  {
   "cell_type": "code",
   "execution_count": null,
   "metadata": {},
   "outputs": [],
   "source": [
    "plt.figure(figsize=(12,6))\n",
    "sns.distplot(baf['cons.conf.idx'],kde=False)\n",
    "plt.title('Term-deposit Subscriber Based on Customer Confidence Index')\n",
    "plt.xlabel('Consumer Confidence Index')\n",
    "plt.ylabel('Frequency')"
   ]
  },
  {
   "cell_type": "markdown",
   "metadata": {},
   "source": [
    "#### 3.3.2 Categorical Feature"
   ]
  },
  {
   "cell_type": "markdown",
   "metadata": {},
   "source": [
    "For categorical features, I will explore the distribution of term-deposit subscriber and non subscriber in every categorical feature. I will also calculate the rate which define proportional of term deposit subscriber of customer in every category."
   ]
  },
  {
   "cell_type": "markdown",
   "metadata": {},
   "source": [
    "**[Job]**"
   ]
  },
  {
   "cell_type": "code",
   "execution_count": null,
   "metadata": {},
   "outputs": [],
   "source": [
    "#Creating dataframe with index=categorical values, and columns=count of y for every y value\n",
    "df1 = pd.DataFrame(baf[baf['y']==0][['job','y']].groupby('job').count())\n",
    "df2 = pd.DataFrame(baf[baf['y']==1][['job','y']].groupby('job').count())\n",
    "df3 = pd.DataFrame(baf[['job','y']].groupby('job').count())\n",
    "\n",
    "# Merge the 3 dataframes \n",
    "df = pd.merge(df1,df2, how='outer', on='job')\n",
    "df = pd.merge(df,df3, how='outer', on='job')\n",
    "df.columns=['y=0','y=1','Total']\n",
    "df['rate'] = df['y=1']/df['Total']\n",
    "df = df.sort_values('Total',ascending=False)\n",
    "df.fillna(0,inplace=True)\n",
    "\n",
    "#Plotting the data \n",
    "df[['y=0','y=1']].plot.bar(stacked=True,color=['red','blue'],figsize=(15,7),width=0.7,legend=9)\n",
    "df['rate'].plot(secondary_y=True,color='black',legend=True,linewidth=3)\n",
    "plt.title('Job')"
   ]
  },
  {
   "cell_type": "markdown",
   "metadata": {},
   "source": [
    "The average for term-deposit subscriber per category in job is ranged between 0.05-0.15. But we can see there is such an anomaly for 2 specific jobs, they are retired and student! It shows that it could be a good predictor seems people whose are retired or students will be more likely to subscribe term-deposit\n",
    "<br>\n",
    "<br>\n",
    "Anyway, if you think the student rate raise because the sample amount is too small, but I don't have the confidence to exclude it because when I look at the other categories who have similiar sample amount (entrepreneur, self-employed,housemaid,unemployed) they don't show this significant rate like Student"
   ]
  },
  {
   "cell_type": "markdown",
   "metadata": {},
   "source": [
    "**[Marital]**\n",
    "<br>\n",
    "Seems that for **unknown** category have too small amount of sample and this will be a pitfall when we use WoE (Weight of Evidence) for this categorical feature so it could give  us wrong value of IV for **marital** feature, so I will remove it"
   ]
  },
  {
   "cell_type": "code",
   "execution_count": null,
   "metadata": {},
   "outputs": [],
   "source": [
    "#Creating dataframe with index=categorical values, and columns=count of y for every y value\n",
    "df1 = pd.DataFrame(baf[baf['y']==0][['marital','y']].groupby('marital').count())\n",
    "df2 = pd.DataFrame(baf[baf['y']==1][['marital','y']].groupby('marital').count())\n",
    "df3 = pd.DataFrame(baf[['marital','y']].groupby('marital').count())\n",
    "\n",
    "# Merge the 3 dataframes \n",
    "df = pd.merge(df1,df2, how='outer', on='marital')\n",
    "df = pd.merge(df,df3, how='outer', on='marital')\n",
    "df.columns=['y=0','y=1','Total']\n",
    "df.fillna(0,inplace=True)\n",
    "\n",
    "#Creating column of subscriber percetage per group\n",
    "df['rate'] = df['y=1']/df['Total']\n",
    "df = df.sort_values('Total',ascending=False)\n",
    "\n",
    "#Plotting the data \n",
    "df[['y=0','y=1']].plot.bar(stacked=True,color=['orange','green'],figsize=(6,4),width=0.7)\n",
    "df['rate'].plot(secondary_y=True,color='black',legend=True,linewidth=3)\n",
    "plt.title('Marital')"
   ]
  },
  {
   "cell_type": "markdown",
   "metadata": {},
   "source": [
    "**[Education]**\n",
    "<br>\n",
    "Seems that for **illiterate** category have too small amount of sample and this will be a pitfall when we use WoE (Weight of Evidence) for this categorical feature. Basically, by rule of thum we need at least 5% of the data for each bin. I will show you what this small amount"
   ]
  },
  {
   "cell_type": "code",
   "execution_count": null,
   "metadata": {},
   "outputs": [],
   "source": [
    "#Creating dataframe with index=categorical values, and columns=count of y for every y value\n",
    "df1 = pd.DataFrame(baf[baf['y']==0][['education','y']].groupby('education').count())\n",
    "df2 = pd.DataFrame(baf[baf['y']==1][['education','y']].groupby('education').count())\n",
    "df3 = pd.DataFrame(baf[['education','y']].groupby('education').count())\n",
    "\n",
    "# Merge the 3 dataframes \n",
    "df = pd.merge(df1,df2, how='outer', on='education')\n",
    "df = pd.merge(df,df3, how='outer', on='education')\n",
    "df.columns=['y=0','y=1','Total']\n",
    "df.fillna(0,inplace=True)\n",
    "\n",
    "#Creating column of subscriber percetage per group\n",
    "df['rate'] = df['y=1']/df['Total']\n",
    "df = df.sort_values('Total',ascending=False)\n",
    "\n",
    "#Plotting the data \n",
    "df[['y=0','y=1']].plot.bar(stacked=True,color=['orange','green'],figsize=(15,7),width=0.7)\n",
    "df['rate'].plot(secondary_y=True,color='black',legend=True,linewidth=3)\n",
    "plt.title('Education')"
   ]
  },
  {
   "cell_type": "markdown",
   "metadata": {},
   "source": [
    "The graph shows significant high rate for **illiterate** right, even if the term-deposit subscriber people whose education is included in illiterate only 4 people but it is 4 out of 18. And by business logically, it doesn't make sense when illiterate people have much higher proportion of term-deposit subscriber than the ones who are educated"
   ]
  },
  {
   "cell_type": "markdown",
   "metadata": {},
   "source": [
    "**[Default]**\n",
    "<br>\n",
    "The other rule of WoE binning is every binning have to has event observation and non-event observation. Since no term deposit subscriber has default, it means the 'yes' category doesn't have event observation"
   ]
  },
  {
   "cell_type": "code",
   "execution_count": null,
   "metadata": {},
   "outputs": [],
   "source": [
    "#Creating dataframe with index=categorical values, and columns=count of y for every y value\n",
    "df1 = pd.DataFrame(baf[baf['y']==0][['default','y']].groupby('default').count())\n",
    "df2 = pd.DataFrame(baf[baf['y']==1][['default','y']].groupby('default').count())\n",
    "df3 = pd.DataFrame(baf[['default','y']].groupby('default').count())\n",
    "\n",
    "# Merge the 3 dataframes \n",
    "df = pd.merge(df1,df2, how='outer', on='default')\n",
    "df = pd.merge(df,df3, how='outer', on='default')\n",
    "df.columns=['y=0','y=1','Total']\n",
    "df.fillna(0,inplace=True)\n",
    "\n",
    "#Creating column of subscriber percetage per group\n",
    "df['rate'] = df['y=1']/df['Total']\n",
    "df = df.sort_values('Total',ascending=False)\n",
    "\n",
    "#Plotting the data \n",
    "df[['y=0','y=1']].plot.bar(stacked=True,color=['orange','green'],figsize=(6,4),width=0.5)\n",
    "df['rate'].plot(secondary_y=True,color='black',legend=True,linewidth=3)\n",
    "plt.title('Default')"
   ]
  },
  {
   "cell_type": "markdown",
   "metadata": {},
   "source": [
    "**[Housing]**\n",
    "<br>\n",
    "No significant range change between each category, and this means it wont lead to any wrong information value. Also the distribution still make sense using the business logic."
   ]
  },
  {
   "cell_type": "code",
   "execution_count": null,
   "metadata": {},
   "outputs": [],
   "source": [
    "#Creating dataframe with index=categorical values, and columns=count of y for every y value\n",
    "df1 = pd.DataFrame(baf[baf['y']==0][['housing','y']].groupby('housing').count())\n",
    "df2 = pd.DataFrame(baf[baf['y']==1][['housing','y']].groupby('housing').count())\n",
    "df3 = pd.DataFrame(baf[['housing','y']].groupby('housing').count())\n",
    "\n",
    "# Merge the 3 dataframes \n",
    "df = pd.merge(df1,df2, how='outer', on='housing')\n",
    "df = pd.merge(df,df3, how='outer', on='housing')\n",
    "df.columns=['y=0','y=1','Total']\n",
    "df.fillna(0,inplace=True)\n",
    "\n",
    "#Creating column of subscriber percetage per group\n",
    "df['rate'] = df['y=1']/df['Total']\n",
    "df = df.sort_values('Total',ascending=False)\n",
    "\n",
    "#Plotting the data \n",
    "df[['y=0','y=1']].plot.bar(stacked=True,color=['orange','green'],figsize=(6,4),width=0.5)\n",
    "df['rate'].plot(secondary_y=True,color='black',legend=True,linewidth=3)\n",
    "plt.title('Housing')"
   ]
  },
  {
   "cell_type": "markdown",
   "metadata": {},
   "source": [
    "**[Loan]**\n",
    "<br>\n",
    "Same like housing, there is no significant change that will lead to any wrong IV. The distribution still make sense using the business logic (the ones who having loan wouldn't prefer to subsribe term deposit and pay-off their loan first\\"
   ]
  },
  {
   "cell_type": "code",
   "execution_count": null,
   "metadata": {},
   "outputs": [],
   "source": [
    "#Creating dataframe with index=categorical values, and columns=count of y for every y value\n",
    "df1 = pd.DataFrame(baf[baf['y']==0][['loan','y']].groupby('loan').count())\n",
    "df2 = pd.DataFrame(baf[baf['y']==1][['loan','y']].groupby('loan').count())\n",
    "df3 = pd.DataFrame(baf[['loan','y']].groupby('loan').count())\n",
    "\n",
    "# Merge the 3 dataframes \n",
    "df = pd.merge(df1,df2, how='outer', on='loan')\n",
    "df = pd.merge(df,df3, how='outer', on='loan')\n",
    "df.columns=['y=0','y=1','Total']\n",
    "df.fillna(0,inplace=True)\n",
    "\n",
    "#Creating column of subscriber percetage per group\n",
    "df['rate'] = df['y=1']/df['Total']\n",
    "df = df.sort_values('Total',ascending=False)\n",
    "\n",
    "#Plotting the data \n",
    "df[['y=0','y=1']].plot.bar(stacked=True,color=['yellow','black'],figsize=(6,4),width=0.5)\n",
    "df['rate'].plot(secondary_y=True,color='red',legend=True,linewidth=3)\n",
    "plt.title('Loan')"
   ]
  },
  {
   "cell_type": "markdown",
   "metadata": {},
   "source": [
    "**[Contact]**\n",
    "<br>\n",
    "Term-deposit subscriber concentrated on people who contacted by cell-phone"
   ]
  },
  {
   "cell_type": "code",
   "execution_count": null,
   "metadata": {},
   "outputs": [],
   "source": [
    "#Creating dataframe with index=categorical values, and columns=count of y for every y value\n",
    "df1 = pd.DataFrame(baf[baf['y']==0][['contact','y']].groupby('contact').count())\n",
    "df2 = pd.DataFrame(baf[baf['y']==1][['contact','y']].groupby('contact').count())\n",
    "df3 = pd.DataFrame(baf[['contact','y']].groupby('contact').count())\n",
    "\n",
    "# Merge the 3 dataframes \n",
    "df = pd.merge(df1,df2, how='outer', on='contact')\n",
    "df = pd.merge(df,df3, how='outer', on='contact')\n",
    "df.columns=['y=0','y=1','Total']\n",
    "df.fillna(0,inplace=True)\n",
    "\n",
    "#Creating column of subscriber percetage per group\n",
    "df['rate'] = df['y=1']/df['Total']\n",
    "df = df.sort_values('Total',ascending=False)\n",
    "\n",
    "#Plotting the data \n",
    "df[['y=0','y=1']].plot.bar(stacked=True,color=['skyblue','pink'],figsize=(6,4),width=0.4)\n",
    "df['rate'].plot(secondary_y=True,color='black',legend=True,linewidth=3)\n",
    "plt.title('Contact')"
   ]
  },
  {
   "cell_type": "markdown",
   "metadata": {},
   "source": [
    "**[Month]**\n",
    "<br>\n",
    "The distribution of term deposit subscriber based customer's month when contacted  is well-distributed and not concentrated on a particular month"
   ]
  },
  {
   "cell_type": "code",
   "execution_count": null,
   "metadata": {},
   "outputs": [],
   "source": [
    "#Creating dataframe with index=categorical values, and columns=count of y for every y value\n",
    "df1 = pd.DataFrame(baf[baf['y']==0][['month','y']].groupby('month').count())\n",
    "df2 = pd.DataFrame(baf[baf['y']==1][['month','y']].groupby('month').count())\n",
    "df3 = pd.DataFrame(baf[['month','y']].groupby('month').count())\n",
    "\n",
    "# Merge the 3 dataframes \n",
    "df = pd.merge(df1,df2, how='outer', on='month')\n",
    "df = pd.merge(df,df3, how='outer', on='month')\n",
    "df.columns=['y=0','y=1','Total']\n",
    "df.fillna(0,inplace=True)\n",
    "\n",
    "#Creating column of subscriber percetage per group\n",
    "df['rate'] = df['y=1']/df['Total']\n",
    "df = df.sort_values('Total',ascending=False)\n",
    "\n",
    "#Plotting the data \n",
    "df[['y=0','y=1']].plot.bar(stacked=True,color=['skyblue','purple'],figsize=(15,7),width=0.7)\n",
    "df['rate'].plot(secondary_y=True,color='black',legend=True,linewidth=3)\n",
    "plt.title('Month')"
   ]
  },
  {
   "cell_type": "markdown",
   "metadata": {},
   "source": [
    "**[Day of Week]**\n",
    "<br>\n",
    "The distribution of term deposit subscriber based customer's day of week contacted is well-distributed. It won't be a good feature."
   ]
  },
  {
   "cell_type": "code",
   "execution_count": null,
   "metadata": {},
   "outputs": [],
   "source": [
    "#Creating dataframe with index=categorical values, and columns=count of y for every y value\n",
    "df1 = pd.DataFrame(baf[baf['y']==0][['day_of_week','y']].groupby('day_of_week').count())\n",
    "df2 = pd.DataFrame(baf[baf['y']==1][['day_of_week','y']].groupby('day_of_week').count())\n",
    "df3 = pd.DataFrame(baf[['day_of_week','y']].groupby('day_of_week').count())\n",
    "\n",
    "# Merge the 3 dataframes \n",
    "df = pd.merge(df1,df2, how='outer', on='day_of_week')\n",
    "df = pd.merge(df,df3, how='outer', on='day_of_week')\n",
    "df.columns=['y=0','y=1','Total']\n",
    "df.fillna(0,inplace=True)\n",
    "\n",
    "#Creating column of subscriber percetage per group\n",
    "df['rate'] = df['y=1']/df['Total']\n",
    "df = df.sort_values('Total',ascending=False)\n",
    "\n",
    "#Plotting the data \n",
    "df[['y=0','y=1']].plot.bar(stacked=True,color=['magenta','yellow'],figsize=(12,4),width=0.5)\n",
    "df['rate'].plot(secondary_y=True,color='black',legend=True,linewidth=3)\n",
    "plt.title('Month')"
   ]
  },
  {
   "cell_type": "markdown",
   "metadata": {},
   "source": [
    "**[Poutcome]**\n",
    "<br>\n",
    "Outcome of the previous marketing campaign related well enough with subscriber term-deposit"
   ]
  },
  {
   "cell_type": "code",
   "execution_count": null,
   "metadata": {},
   "outputs": [],
   "source": [
    "#Creating dataframe with index=categorical values, and columns=count of y for every y value\n",
    "df1 = pd.DataFrame(baf[baf['y']==0][['poutcome','y']].groupby('poutcome').count())\n",
    "df2 = pd.DataFrame(baf[baf['y']==1][['poutcome','y']].groupby('poutcome').count())\n",
    "df3 = pd.DataFrame(baf[['poutcome','y']].groupby('poutcome').count())\n",
    "\n",
    "# Merge the 3 dataframes \n",
    "df = pd.merge(df1,df2, how='outer', on='poutcome')\n",
    "df = pd.merge(df,df3, how='outer', on='poutcome')\n",
    "df.columns=['y=0','y=1','Total']\n",
    "df.fillna(0,inplace=True)\n",
    "\n",
    "#Creating column of subscriber percetage per group\n",
    "df['rate'] = df['y=1']/df['Total']\n",
    "df = df.sort_values('Total',ascending=False)\n",
    "\n",
    "#Plotting the data \n",
    "df[['y=0','y=1']].plot.bar(stacked=True,color=['red','yellow'],figsize=(15,7),width=0.7)\n",
    "df['rate'].plot(secondary_y=True,color='black',legend=True,linewidth=3)\n",
    "plt.title('Poutcome')"
   ]
  },
  {
   "cell_type": "markdown",
   "metadata": {},
   "source": [
    "#### 3.3.3 Feature Engineering"
   ]
  },
  {
   "cell_type": "markdown",
   "metadata": {},
   "source": [
    "In this section, I will do some feature engineering. I will reduce some feature using **Weight of Evidence** and **Information Value** method. The method tells the predictive power of an independent variable in relation to the dependent variable. This method will give the predictive power (information value) for each category. It also handle my categorical feature by change it into numbers so the algorithm could understand the input. Before entering WoE and IV, I will prepare the data first. One of the rule of WoE is the bin/value of feature can't have too small amount of observation. So I will remove them and treat them as noise"
   ]
  },
  {
   "cell_type": "code",
   "execution_count": 7,
   "metadata": {},
   "outputs": [],
   "source": [
    "baf = baf[baf['default'] != 'yes']\n",
    "baf = baf[baf['marital'] != 'unknown']\n",
    "baf = baf[baf['education'] != 'illiterate']"
   ]
  },
  {
   "cell_type": "markdown",
   "metadata": {},
   "source": [
    "After I remove the noise, I will continue to the WOE and IV to calculate the Information Value of every feature. This algorithm to binning and calculate WoE I got from https://github.com/Sundar0989/WOE-and-IV/blob/master/WOE_IV.ipynb"
   ]
  },
  {
   "cell_type": "code",
   "execution_count": 8,
   "metadata": {},
   "outputs": [],
   "source": [
    "import pandas.core.algorithms as algos\n",
    "from pandas import Series\n",
    "import scipy.stats.stats as stats\n",
    "import re\n",
    "import traceback\n",
    "import string\n",
    "\n",
    "max_bin = 20\n",
    "force_bin = 3\n",
    "\n",
    "# define a binning function\n",
    "def mono_bin(Y, X, n = max_bin):\n",
    "    \n",
    "    df1 = pd.DataFrame({\"X\": X, \"Y\": Y})\n",
    "    justmiss = df1[['X','Y']][df1.X.isnull()]\n",
    "    notmiss = df1[['X','Y']][df1.X.notnull()]\n",
    "    r = 0\n",
    "    while np.abs(r) < 1:\n",
    "        try:\n",
    "            d1 = pd.DataFrame({\"X\": notmiss.X, \"Y\": notmiss.Y, \"Bucket\": pd.qcut(notmiss.X, n)})\n",
    "            d2 = d1.groupby('Bucket', as_index=True)\n",
    "            r, p = stats.spearmanr(d2.mean().X, d2.mean().Y)\n",
    "            n = n - 1 \n",
    "        except Exception as e:\n",
    "            n = n - 1\n",
    "\n",
    "    if len(d2) == 1:\n",
    "        n = force_bin         \n",
    "        bins = algos.quantile(notmiss.X, np.linspace(0, 1, n))\n",
    "        if len(np.unique(bins)) == 2:\n",
    "            bins = np.insert(bins, 0, 1)\n",
    "            bins[1] = bins[1]-(bins[1]/2)\n",
    "        d1 = pd.DataFrame({\"X\": notmiss.X, \"Y\": notmiss.Y, \"Bucket\": pd.cut(notmiss.X, np.unique(bins),include_lowest=True)}) \n",
    "        d2 = d1.groupby('Bucket', as_index=True)\n",
    "    \n",
    "    d3 = pd.DataFrame({},index=[])\n",
    "    d3[\"MIN_VALUE\"] = d2.min().X\n",
    "    d3[\"MAX_VALUE\"] = d2.max().X\n",
    "    d3[\"COUNT\"] = d2.count().Y\n",
    "    d3[\"EVENT\"] = d2.sum().Y\n",
    "    d3[\"NONEVENT\"] = d2.count().Y - d2.sum().Y\n",
    "    d3=d3.reset_index(drop=True)\n",
    "    \n",
    "    if len(justmiss.index) > 0:\n",
    "        d4 = pd.DataFrame({'MIN_VALUE':np.nan},index=[0])\n",
    "        d4[\"MAX_VALUE\"] = np.nan\n",
    "        d4[\"COUNT\"] = justmiss.count().Y\n",
    "        d4[\"EVENT\"] = justmiss.sum().Y\n",
    "        d4[\"NONEVENT\"] = justmiss.count().Y - justmiss.sum().Y\n",
    "        d3 = d3.append(d4,ignore_index=True)\n",
    "    \n",
    "    d3[\"EVENT_RATE\"] = d3.EVENT/d3.COUNT\n",
    "    d3[\"NON_EVENT_RATE\"] = d3.NONEVENT/d3.COUNT\n",
    "    d3[\"DIST_EVENT\"] = d3.EVENT/d3.sum().EVENT\n",
    "    d3[\"DIST_NON_EVENT\"] = d3.NONEVENT/d3.sum().NONEVENT\n",
    "    d3[\"WOE\"] = np.log(d3.DIST_EVENT/d3.DIST_NON_EVENT)\n",
    "    d3[\"IV\"] = (d3.DIST_EVENT-d3.DIST_NON_EVENT)*np.log(d3.DIST_EVENT/d3.DIST_NON_EVENT)\n",
    "    d3[\"VAR_NAME\"] = \"VAR\"\n",
    "    d3 = d3[['VAR_NAME','MIN_VALUE', 'MAX_VALUE', 'COUNT', 'EVENT', 'EVENT_RATE', 'NONEVENT', 'NON_EVENT_RATE', 'DIST_EVENT','DIST_NON_EVENT','WOE', 'IV']]       \n",
    "    d3 = d3.replace([np.inf, -np.inf], 0)\n",
    "    d3.IV = d3.IV.sum()\n",
    "    \n",
    "    return(d3)\n",
    "\n",
    "def char_bin(Y, X):\n",
    "        \n",
    "    df1 = pd.DataFrame({\"X\": X, \"Y\": Y})\n",
    "    justmiss = df1[['X','Y']][df1.X.isnull()]\n",
    "    notmiss = df1[['X','Y']][df1.X.notnull()]    \n",
    "    df2 = notmiss.groupby('X',as_index=True)\n",
    "    \n",
    "    d3 = pd.DataFrame({},index=[])\n",
    "    d3[\"COUNT\"] = df2.count().Y\n",
    "    d3[\"MIN_VALUE\"] = df2.sum().Y.index\n",
    "    d3[\"MAX_VALUE\"] = d3[\"MIN_VALUE\"]\n",
    "    d3[\"EVENT\"] = df2.sum().Y\n",
    "    d3[\"NONEVENT\"] = df2.count().Y - df2.sum().Y\n",
    "    \n",
    "    if len(justmiss.index) > 0:\n",
    "        d4 = pd.DataFrame({'MIN_VALUE':np.nan},index=[0])\n",
    "        d4[\"MAX_VALUE\"] = np.nan\n",
    "        d4[\"COUNT\"] = justmiss.count().Y\n",
    "        d4[\"EVENT\"] = justmiss.sum().Y\n",
    "        d4[\"NONEVENT\"] = justmiss.count().Y - justmiss.sum().Y\n",
    "        d3 = d3.append(d4,ignore_index=True)\n",
    "    \n",
    "    d3[\"EVENT_RATE\"] = d3.EVENT/d3.COUNT\n",
    "    d3[\"NON_EVENT_RATE\"] = d3.NONEVENT/d3.COUNT\n",
    "    d3[\"DIST_EVENT\"] = d3.EVENT/d3.sum().EVENT\n",
    "    d3[\"DIST_NON_EVENT\"] = d3.NONEVENT/d3.sum().NONEVENT\n",
    "    d3[\"WOE\"] = np.log(d3.DIST_EVENT/d3.DIST_NON_EVENT)\n",
    "    d3[\"IV\"] = (d3.DIST_EVENT-d3.DIST_NON_EVENT)*np.log(d3.DIST_EVENT/d3.DIST_NON_EVENT)\n",
    "    d3[\"VAR_NAME\"] = \"VAR\"\n",
    "    d3 = d3[['VAR_NAME','MIN_VALUE', 'MAX_VALUE', 'COUNT', 'EVENT', 'EVENT_RATE', 'NONEVENT', 'NON_EVENT_RATE', 'DIST_EVENT','DIST_NON_EVENT','WOE', 'IV']]      \n",
    "    d3 = d3.replace([np.inf, -np.inf], 0)\n",
    "    d3.IV = d3.IV.sum()\n",
    "    d3 = d3.reset_index(drop=True)\n",
    "    \n",
    "    return(d3)\n",
    "\n",
    "def data_vars(df1, target):\n",
    "    \n",
    "    stack = traceback.extract_stack()\n",
    "    filename, lineno, function_name, code = stack[-2]\n",
    "    vars_name = re.compile(r'\\((.*?)\\).*$').search(code).groups()[0]\n",
    "    final = (re.findall(r\"[\\w']+\", vars_name))[-1]\n",
    "    \n",
    "    x = df1.dtypes.index\n",
    "    count = -1\n",
    "    \n",
    "    for i in x:\n",
    "        if i.upper() not in (final.upper()):\n",
    "            if np.issubdtype(df1[i], np.number) and len(Series.unique(df1[i])) > 2:\n",
    "                conv = mono_bin(target, df1[i])\n",
    "                conv[\"VAR_NAME\"] = i\n",
    "                count = count + 1\n",
    "            else:\n",
    "                conv = char_bin(target, df1[i])\n",
    "                conv[\"VAR_NAME\"] = i            \n",
    "                count = count + 1\n",
    "                \n",
    "            if count == 0:\n",
    "                iv_df = conv\n",
    "            else:\n",
    "                iv_df = iv_df.append(conv,ignore_index=True)\n",
    "    \n",
    "    iv = pd.DataFrame({'IV':iv_df.groupby('VAR_NAME').IV.max()})\n",
    "    iv = iv.reset_index()\n",
    "    return(iv_df,iv)"
   ]
  },
  {
   "cell_type": "code",
   "execution_count": 9,
   "metadata": {
    "scrolled": true
   },
   "outputs": [],
   "source": [
    "final_iv, IV = data_vars(baf,baf['y'])"
   ]
  },
  {
   "cell_type": "code",
   "execution_count": 10,
   "metadata": {},
   "outputs": [
    {
     "data": {
      "text/html": [
       "<div>\n",
       "<style scoped>\n",
       "    .dataframe tbody tr th:only-of-type {\n",
       "        vertical-align: middle;\n",
       "    }\n",
       "\n",
       "    .dataframe tbody tr th {\n",
       "        vertical-align: top;\n",
       "    }\n",
       "\n",
       "    .dataframe thead th {\n",
       "        text-align: right;\n",
       "    }\n",
       "</style>\n",
       "<table border=\"1\" class=\"dataframe\">\n",
       "  <thead>\n",
       "    <tr style=\"text-align: right;\">\n",
       "      <th></th>\n",
       "      <th>VAR_NAME</th>\n",
       "      <th>MIN_VALUE</th>\n",
       "      <th>MAX_VALUE</th>\n",
       "      <th>COUNT</th>\n",
       "      <th>EVENT</th>\n",
       "      <th>EVENT_RATE</th>\n",
       "      <th>NONEVENT</th>\n",
       "      <th>NON_EVENT_RATE</th>\n",
       "      <th>DIST_EVENT</th>\n",
       "      <th>DIST_NON_EVENT</th>\n",
       "      <th>WOE</th>\n",
       "      <th>IV</th>\n",
       "    </tr>\n",
       "  </thead>\n",
       "  <tbody>\n",
       "    <tr>\n",
       "      <td>0</td>\n",
       "      <td>age</td>\n",
       "      <td>17</td>\n",
       "      <td>38</td>\n",
       "      <td>21123</td>\n",
       "      <td>2515</td>\n",
       "      <td>0.119065</td>\n",
       "      <td>18608</td>\n",
       "      <td>0.880935</td>\n",
       "      <td>0.543901</td>\n",
       "      <td>0.510326</td>\n",
       "      <td>0.063719</td>\n",
       "      <td>0.004524</td>\n",
       "    </tr>\n",
       "    <tr>\n",
       "      <td>1</td>\n",
       "      <td>age</td>\n",
       "      <td>39</td>\n",
       "      <td>98</td>\n",
       "      <td>19964</td>\n",
       "      <td>2109</td>\n",
       "      <td>0.105640</td>\n",
       "      <td>17855</td>\n",
       "      <td>0.894360</td>\n",
       "      <td>0.456099</td>\n",
       "      <td>0.489674</td>\n",
       "      <td>-0.071032</td>\n",
       "      <td>0.004524</td>\n",
       "    </tr>\n",
       "    <tr>\n",
       "      <td>2</td>\n",
       "      <td>job</td>\n",
       "      <td>admin.</td>\n",
       "      <td>admin.</td>\n",
       "      <td>10407</td>\n",
       "      <td>1350</td>\n",
       "      <td>0.129720</td>\n",
       "      <td>9057</td>\n",
       "      <td>0.870280</td>\n",
       "      <td>0.291955</td>\n",
       "      <td>0.248389</td>\n",
       "      <td>0.161605</td>\n",
       "      <td>0.189258</td>\n",
       "    </tr>\n",
       "    <tr>\n",
       "      <td>3</td>\n",
       "      <td>job</td>\n",
       "      <td>blue-collar</td>\n",
       "      <td>blue-collar</td>\n",
       "      <td>9232</td>\n",
       "      <td>635</td>\n",
       "      <td>0.068782</td>\n",
       "      <td>8597</td>\n",
       "      <td>0.931218</td>\n",
       "      <td>0.137327</td>\n",
       "      <td>0.235773</td>\n",
       "      <td>-0.540506</td>\n",
       "      <td>0.189258</td>\n",
       "    </tr>\n",
       "    <tr>\n",
       "      <td>4</td>\n",
       "      <td>job</td>\n",
       "      <td>entrepreneur</td>\n",
       "      <td>entrepreneur</td>\n",
       "      <td>1451</td>\n",
       "      <td>122</td>\n",
       "      <td>0.084080</td>\n",
       "      <td>1329</td>\n",
       "      <td>0.915920</td>\n",
       "      <td>0.026384</td>\n",
       "      <td>0.036448</td>\n",
       "      <td>-0.323123</td>\n",
       "      <td>0.189258</td>\n",
       "    </tr>\n",
       "    <tr>\n",
       "      <td>5</td>\n",
       "      <td>job</td>\n",
       "      <td>housemaid</td>\n",
       "      <td>housemaid</td>\n",
       "      <td>1056</td>\n",
       "      <td>106</td>\n",
       "      <td>0.100379</td>\n",
       "      <td>950</td>\n",
       "      <td>0.899621</td>\n",
       "      <td>0.022924</td>\n",
       "      <td>0.026054</td>\n",
       "      <td>-0.127985</td>\n",
       "      <td>0.189258</td>\n",
       "    </tr>\n",
       "    <tr>\n",
       "      <td>6</td>\n",
       "      <td>job</td>\n",
       "      <td>management</td>\n",
       "      <td>management</td>\n",
       "      <td>2921</td>\n",
       "      <td>328</td>\n",
       "      <td>0.112290</td>\n",
       "      <td>2593</td>\n",
       "      <td>0.887710</td>\n",
       "      <td>0.070934</td>\n",
       "      <td>0.071113</td>\n",
       "      <td>-0.002519</td>\n",
       "      <td>0.189258</td>\n",
       "    </tr>\n",
       "    <tr>\n",
       "      <td>7</td>\n",
       "      <td>job</td>\n",
       "      <td>retired</td>\n",
       "      <td>retired</td>\n",
       "      <td>1712</td>\n",
       "      <td>431</td>\n",
       "      <td>0.251752</td>\n",
       "      <td>1281</td>\n",
       "      <td>0.748248</td>\n",
       "      <td>0.093209</td>\n",
       "      <td>0.035132</td>\n",
       "      <td>0.975750</td>\n",
       "      <td>0.189258</td>\n",
       "    </tr>\n",
       "    <tr>\n",
       "      <td>8</td>\n",
       "      <td>job</td>\n",
       "      <td>self-employed</td>\n",
       "      <td>self-employed</td>\n",
       "      <td>1413</td>\n",
       "      <td>148</td>\n",
       "      <td>0.104742</td>\n",
       "      <td>1265</td>\n",
       "      <td>0.895258</td>\n",
       "      <td>0.032007</td>\n",
       "      <td>0.034693</td>\n",
       "      <td>-0.080577</td>\n",
       "      <td>0.189258</td>\n",
       "    </tr>\n",
       "    <tr>\n",
       "      <td>9</td>\n",
       "      <td>job</td>\n",
       "      <td>services</td>\n",
       "      <td>services</td>\n",
       "      <td>3963</td>\n",
       "      <td>323</td>\n",
       "      <td>0.081504</td>\n",
       "      <td>3640</td>\n",
       "      <td>0.918496</td>\n",
       "      <td>0.069853</td>\n",
       "      <td>0.099827</td>\n",
       "      <td>-0.357049</td>\n",
       "      <td>0.189258</td>\n",
       "    </tr>\n",
       "    <tr>\n",
       "      <td>10</td>\n",
       "      <td>job</td>\n",
       "      <td>student</td>\n",
       "      <td>student</td>\n",
       "      <td>874</td>\n",
       "      <td>275</td>\n",
       "      <td>0.314645</td>\n",
       "      <td>599</td>\n",
       "      <td>0.685355</td>\n",
       "      <td>0.059472</td>\n",
       "      <td>0.016428</td>\n",
       "      <td>1.286547</td>\n",
       "      <td>0.189258</td>\n",
       "    </tr>\n",
       "    <tr>\n",
       "      <td>11</td>\n",
       "      <td>job</td>\n",
       "      <td>technician</td>\n",
       "      <td>technician</td>\n",
       "      <td>6729</td>\n",
       "      <td>728</td>\n",
       "      <td>0.108188</td>\n",
       "      <td>6001</td>\n",
       "      <td>0.891812</td>\n",
       "      <td>0.157439</td>\n",
       "      <td>0.164578</td>\n",
       "      <td>-0.044342</td>\n",
       "      <td>0.189258</td>\n",
       "    </tr>\n",
       "    <tr>\n",
       "      <td>12</td>\n",
       "      <td>job</td>\n",
       "      <td>unemployed</td>\n",
       "      <td>unemployed</td>\n",
       "      <td>1008</td>\n",
       "      <td>144</td>\n",
       "      <td>0.142857</td>\n",
       "      <td>864</td>\n",
       "      <td>0.857143</td>\n",
       "      <td>0.031142</td>\n",
       "      <td>0.023695</td>\n",
       "      <td>0.273278</td>\n",
       "      <td>0.189258</td>\n",
       "    </tr>\n",
       "    <tr>\n",
       "      <td>13</td>\n",
       "      <td>job</td>\n",
       "      <td>unknown</td>\n",
       "      <td>unknown</td>\n",
       "      <td>321</td>\n",
       "      <td>34</td>\n",
       "      <td>0.105919</td>\n",
       "      <td>287</td>\n",
       "      <td>0.894081</td>\n",
       "      <td>0.007353</td>\n",
       "      <td>0.007871</td>\n",
       "      <td>-0.068084</td>\n",
       "      <td>0.189258</td>\n",
       "    </tr>\n",
       "    <tr>\n",
       "      <td>14</td>\n",
       "      <td>marital</td>\n",
       "      <td>divorced</td>\n",
       "      <td>divorced</td>\n",
       "      <td>4610</td>\n",
       "      <td>475</td>\n",
       "      <td>0.103037</td>\n",
       "      <td>4135</td>\n",
       "      <td>0.896963</td>\n",
       "      <td>0.102725</td>\n",
       "      <td>0.113403</td>\n",
       "      <td>-0.098890</td>\n",
       "      <td>0.028172</td>\n",
       "    </tr>\n",
       "    <tr>\n",
       "      <td>15</td>\n",
       "      <td>marital</td>\n",
       "      <td>married</td>\n",
       "      <td>married</td>\n",
       "      <td>24910</td>\n",
       "      <td>2529</td>\n",
       "      <td>0.101525</td>\n",
       "      <td>22381</td>\n",
       "      <td>0.898475</td>\n",
       "      <td>0.546929</td>\n",
       "      <td>0.613800</td>\n",
       "      <td>-0.115351</td>\n",
       "      <td>0.028172</td>\n",
       "    </tr>\n",
       "    <tr>\n",
       "      <td>16</td>\n",
       "      <td>marital</td>\n",
       "      <td>single</td>\n",
       "      <td>single</td>\n",
       "      <td>11567</td>\n",
       "      <td>1620</td>\n",
       "      <td>0.140054</td>\n",
       "      <td>9947</td>\n",
       "      <td>0.859946</td>\n",
       "      <td>0.350346</td>\n",
       "      <td>0.272797</td>\n",
       "      <td>0.250193</td>\n",
       "      <td>0.028172</td>\n",
       "    </tr>\n",
       "    <tr>\n",
       "      <td>17</td>\n",
       "      <td>education</td>\n",
       "      <td>basic.4y</td>\n",
       "      <td>basic.4y</td>\n",
       "      <td>4170</td>\n",
       "      <td>427</td>\n",
       "      <td>0.102398</td>\n",
       "      <td>3743</td>\n",
       "      <td>0.897602</td>\n",
       "      <td>0.092344</td>\n",
       "      <td>0.102652</td>\n",
       "      <td>-0.105821</td>\n",
       "      <td>0.048158</td>\n",
       "    </tr>\n",
       "    <tr>\n",
       "      <td>18</td>\n",
       "      <td>education</td>\n",
       "      <td>basic.6y</td>\n",
       "      <td>basic.6y</td>\n",
       "      <td>2286</td>\n",
       "      <td>188</td>\n",
       "      <td>0.082240</td>\n",
       "      <td>2098</td>\n",
       "      <td>0.917760</td>\n",
       "      <td>0.040657</td>\n",
       "      <td>0.057538</td>\n",
       "      <td>-0.347260</td>\n",
       "      <td>0.048158</td>\n",
       "    </tr>\n",
       "    <tr>\n",
       "      <td>19</td>\n",
       "      <td>education</td>\n",
       "      <td>basic.9y</td>\n",
       "      <td>basic.9y</td>\n",
       "      <td>6037</td>\n",
       "      <td>471</td>\n",
       "      <td>0.078019</td>\n",
       "      <td>5566</td>\n",
       "      <td>0.921981</td>\n",
       "      <td>0.101860</td>\n",
       "      <td>0.152648</td>\n",
       "      <td>-0.404536</td>\n",
       "      <td>0.048158</td>\n",
       "    </tr>\n",
       "    <tr>\n",
       "      <td>20</td>\n",
       "      <td>education</td>\n",
       "      <td>high.school</td>\n",
       "      <td>high.school</td>\n",
       "      <td>9500</td>\n",
       "      <td>1030</td>\n",
       "      <td>0.108421</td>\n",
       "      <td>8470</td>\n",
       "      <td>0.891579</td>\n",
       "      <td>0.222751</td>\n",
       "      <td>0.232290</td>\n",
       "      <td>-0.041934</td>\n",
       "      <td>0.048158</td>\n",
       "    </tr>\n",
       "    <tr>\n",
       "      <td>21</td>\n",
       "      <td>education</td>\n",
       "      <td>professional.course</td>\n",
       "      <td>professional.course</td>\n",
       "      <td>5235</td>\n",
       "      <td>595</td>\n",
       "      <td>0.113658</td>\n",
       "      <td>4640</td>\n",
       "      <td>0.886342</td>\n",
       "      <td>0.128676</td>\n",
       "      <td>0.127252</td>\n",
       "      <td>0.011130</td>\n",
       "      <td>0.048158</td>\n",
       "    </tr>\n",
       "    <tr>\n",
       "      <td>22</td>\n",
       "      <td>education</td>\n",
       "      <td>university.degree</td>\n",
       "      <td>university.degree</td>\n",
       "      <td>12137</td>\n",
       "      <td>1664</td>\n",
       "      <td>0.137101</td>\n",
       "      <td>10473</td>\n",
       "      <td>0.862899</td>\n",
       "      <td>0.359862</td>\n",
       "      <td>0.287223</td>\n",
       "      <td>0.225462</td>\n",
       "      <td>0.048158</td>\n",
       "    </tr>\n",
       "    <tr>\n",
       "      <td>23</td>\n",
       "      <td>education</td>\n",
       "      <td>unknown</td>\n",
       "      <td>unknown</td>\n",
       "      <td>1722</td>\n",
       "      <td>249</td>\n",
       "      <td>0.144599</td>\n",
       "      <td>1473</td>\n",
       "      <td>0.855401</td>\n",
       "      <td>0.053849</td>\n",
       "      <td>0.040397</td>\n",
       "      <td>0.287434</td>\n",
       "      <td>0.048158</td>\n",
       "    </tr>\n",
       "    <tr>\n",
       "      <td>24</td>\n",
       "      <td>default</td>\n",
       "      <td>no</td>\n",
       "      <td>no</td>\n",
       "      <td>32508</td>\n",
       "      <td>4182</td>\n",
       "      <td>0.128645</td>\n",
       "      <td>28326</td>\n",
       "      <td>0.871355</td>\n",
       "      <td>0.904412</td>\n",
       "      <td>0.776842</td>\n",
       "      <td>0.152047</td>\n",
       "      <td>0.127554</td>\n",
       "    </tr>\n",
       "    <tr>\n",
       "      <td>25</td>\n",
       "      <td>default</td>\n",
       "      <td>unknown</td>\n",
       "      <td>unknown</td>\n",
       "      <td>8579</td>\n",
       "      <td>442</td>\n",
       "      <td>0.051521</td>\n",
       "      <td>8137</td>\n",
       "      <td>0.948479</td>\n",
       "      <td>0.095588</td>\n",
       "      <td>0.223158</td>\n",
       "      <td>-0.847829</td>\n",
       "      <td>0.127554</td>\n",
       "    </tr>\n",
       "    <tr>\n",
       "      <td>26</td>\n",
       "      <td>housing</td>\n",
       "      <td>no</td>\n",
       "      <td>no</td>\n",
       "      <td>18568</td>\n",
       "      <td>2018</td>\n",
       "      <td>0.108682</td>\n",
       "      <td>16550</td>\n",
       "      <td>0.891318</td>\n",
       "      <td>0.436419</td>\n",
       "      <td>0.453885</td>\n",
       "      <td>-0.039241</td>\n",
       "      <td>0.001377</td>\n",
       "    </tr>\n",
       "    <tr>\n",
       "      <td>27</td>\n",
       "      <td>housing</td>\n",
       "      <td>unknown</td>\n",
       "      <td>unknown</td>\n",
       "      <td>989</td>\n",
       "      <td>107</td>\n",
       "      <td>0.108190</td>\n",
       "      <td>882</td>\n",
       "      <td>0.891810</td>\n",
       "      <td>0.023140</td>\n",
       "      <td>0.024189</td>\n",
       "      <td>-0.044325</td>\n",
       "      <td>0.001377</td>\n",
       "    </tr>\n",
       "    <tr>\n",
       "      <td>28</td>\n",
       "      <td>housing</td>\n",
       "      <td>yes</td>\n",
       "      <td>yes</td>\n",
       "      <td>21530</td>\n",
       "      <td>2499</td>\n",
       "      <td>0.116071</td>\n",
       "      <td>19031</td>\n",
       "      <td>0.883929</td>\n",
       "      <td>0.540441</td>\n",
       "      <td>0.521926</td>\n",
       "      <td>0.034859</td>\n",
       "      <td>0.001377</td>\n",
       "    </tr>\n",
       "    <tr>\n",
       "      <td>29</td>\n",
       "      <td>loan</td>\n",
       "      <td>no</td>\n",
       "      <td>no</td>\n",
       "      <td>33865</td>\n",
       "      <td>3836</td>\n",
       "      <td>0.113273</td>\n",
       "      <td>30029</td>\n",
       "      <td>0.886727</td>\n",
       "      <td>0.829585</td>\n",
       "      <td>0.823547</td>\n",
       "      <td>0.007304</td>\n",
       "      <td>0.000257</td>\n",
       "    </tr>\n",
       "    <tr>\n",
       "      <td>30</td>\n",
       "      <td>loan</td>\n",
       "      <td>unknown</td>\n",
       "      <td>unknown</td>\n",
       "      <td>989</td>\n",
       "      <td>107</td>\n",
       "      <td>0.108190</td>\n",
       "      <td>882</td>\n",
       "      <td>0.891810</td>\n",
       "      <td>0.023140</td>\n",
       "      <td>0.024189</td>\n",
       "      <td>-0.044325</td>\n",
       "      <td>0.000257</td>\n",
       "    </tr>\n",
       "    <tr>\n",
       "      <td>31</td>\n",
       "      <td>loan</td>\n",
       "      <td>yes</td>\n",
       "      <td>yes</td>\n",
       "      <td>6233</td>\n",
       "      <td>681</td>\n",
       "      <td>0.109257</td>\n",
       "      <td>5552</td>\n",
       "      <td>0.890743</td>\n",
       "      <td>0.147275</td>\n",
       "      <td>0.152264</td>\n",
       "      <td>-0.033313</td>\n",
       "      <td>0.000257</td>\n",
       "    </tr>\n",
       "    <tr>\n",
       "      <td>32</td>\n",
       "      <td>contact</td>\n",
       "      <td>cellular</td>\n",
       "      <td>cellular</td>\n",
       "      <td>26073</td>\n",
       "      <td>3839</td>\n",
       "      <td>0.147240</td>\n",
       "      <td>22234</td>\n",
       "      <td>0.852760</td>\n",
       "      <td>0.830234</td>\n",
       "      <td>0.609769</td>\n",
       "      <td>0.308627</td>\n",
       "      <td>0.251538</td>\n",
       "    </tr>\n",
       "    <tr>\n",
       "      <td>33</td>\n",
       "      <td>contact</td>\n",
       "      <td>telephone</td>\n",
       "      <td>telephone</td>\n",
       "      <td>15014</td>\n",
       "      <td>785</td>\n",
       "      <td>0.052285</td>\n",
       "      <td>14229</td>\n",
       "      <td>0.947715</td>\n",
       "      <td>0.169766</td>\n",
       "      <td>0.390231</td>\n",
       "      <td>-0.832316</td>\n",
       "      <td>0.251538</td>\n",
       "    </tr>\n",
       "    <tr>\n",
       "      <td>34</td>\n",
       "      <td>month</td>\n",
       "      <td>apr</td>\n",
       "      <td>apr</td>\n",
       "      <td>2627</td>\n",
       "      <td>538</td>\n",
       "      <td>0.204796</td>\n",
       "      <td>2089</td>\n",
       "      <td>0.795204</td>\n",
       "      <td>0.116349</td>\n",
       "      <td>0.057291</td>\n",
       "      <td>0.708456</td>\n",
       "      <td>0.485111</td>\n",
       "    </tr>\n",
       "    <tr>\n",
       "      <td>35</td>\n",
       "      <td>month</td>\n",
       "      <td>aug</td>\n",
       "      <td>aug</td>\n",
       "      <td>6161</td>\n",
       "      <td>649</td>\n",
       "      <td>0.105340</td>\n",
       "      <td>5512</td>\n",
       "      <td>0.894660</td>\n",
       "      <td>0.140355</td>\n",
       "      <td>0.151167</td>\n",
       "      <td>-0.074212</td>\n",
       "      <td>0.485111</td>\n",
       "    </tr>\n",
       "    <tr>\n",
       "      <td>36</td>\n",
       "      <td>month</td>\n",
       "      <td>dec</td>\n",
       "      <td>dec</td>\n",
       "      <td>182</td>\n",
       "      <td>89</td>\n",
       "      <td>0.489011</td>\n",
       "      <td>93</td>\n",
       "      <td>0.510989</td>\n",
       "      <td>0.019247</td>\n",
       "      <td>0.002551</td>\n",
       "      <td>2.021075</td>\n",
       "      <td>0.485111</td>\n",
       "    </tr>\n",
       "    <tr>\n",
       "      <td>37</td>\n",
       "      <td>month</td>\n",
       "      <td>jul</td>\n",
       "      <td>jul</td>\n",
       "      <td>7160</td>\n",
       "      <td>647</td>\n",
       "      <td>0.090363</td>\n",
       "      <td>6513</td>\n",
       "      <td>0.909637</td>\n",
       "      <td>0.139922</td>\n",
       "      <td>0.178619</td>\n",
       "      <td>-0.244171</td>\n",
       "      <td>0.485111</td>\n",
       "    </tr>\n",
       "    <tr>\n",
       "      <td>38</td>\n",
       "      <td>month</td>\n",
       "      <td>jun</td>\n",
       "      <td>jun</td>\n",
       "      <td>5306</td>\n",
       "      <td>558</td>\n",
       "      <td>0.105164</td>\n",
       "      <td>4748</td>\n",
       "      <td>0.894836</td>\n",
       "      <td>0.120675</td>\n",
       "      <td>0.130214</td>\n",
       "      <td>-0.076082</td>\n",
       "      <td>0.485111</td>\n",
       "    </tr>\n",
       "    <tr>\n",
       "      <td>39</td>\n",
       "      <td>month</td>\n",
       "      <td>mar</td>\n",
       "      <td>mar</td>\n",
       "      <td>543</td>\n",
       "      <td>274</td>\n",
       "      <td>0.504604</td>\n",
       "      <td>269</td>\n",
       "      <td>0.495396</td>\n",
       "      <td>0.059256</td>\n",
       "      <td>0.007377</td>\n",
       "      <td>2.083455</td>\n",
       "      <td>0.485111</td>\n",
       "    </tr>\n",
       "    <tr>\n",
       "      <td>40</td>\n",
       "      <td>month</td>\n",
       "      <td>may</td>\n",
       "      <td>may</td>\n",
       "      <td>13733</td>\n",
       "      <td>884</td>\n",
       "      <td>0.064370</td>\n",
       "      <td>12849</td>\n",
       "      <td>0.935630</td>\n",
       "      <td>0.191176</td>\n",
       "      <td>0.352385</td>\n",
       "      <td>-0.611526</td>\n",
       "      <td>0.485111</td>\n",
       "    </tr>\n",
       "    <tr>\n",
       "      <td>41</td>\n",
       "      <td>month</td>\n",
       "      <td>nov</td>\n",
       "      <td>nov</td>\n",
       "      <td>4090</td>\n",
       "      <td>415</td>\n",
       "      <td>0.101467</td>\n",
       "      <td>3675</td>\n",
       "      <td>0.898533</td>\n",
       "      <td>0.089749</td>\n",
       "      <td>0.100787</td>\n",
       "      <td>-0.115992</td>\n",
       "      <td>0.485111</td>\n",
       "    </tr>\n",
       "    <tr>\n",
       "      <td>42</td>\n",
       "      <td>month</td>\n",
       "      <td>oct</td>\n",
       "      <td>oct</td>\n",
       "      <td>715</td>\n",
       "      <td>314</td>\n",
       "      <td>0.439161</td>\n",
       "      <td>401</td>\n",
       "      <td>0.560839</td>\n",
       "      <td>0.067907</td>\n",
       "      <td>0.010997</td>\n",
       "      <td>1.820469</td>\n",
       "      <td>0.485111</td>\n",
       "    </tr>\n",
       "    <tr>\n",
       "      <td>43</td>\n",
       "      <td>month</td>\n",
       "      <td>sep</td>\n",
       "      <td>sep</td>\n",
       "      <td>570</td>\n",
       "      <td>256</td>\n",
       "      <td>0.449123</td>\n",
       "      <td>314</td>\n",
       "      <td>0.550877</td>\n",
       "      <td>0.055363</td>\n",
       "      <td>0.008611</td>\n",
       "      <td>1.860822</td>\n",
       "      <td>0.485111</td>\n",
       "    </tr>\n",
       "    <tr>\n",
       "      <td>44</td>\n",
       "      <td>day_of_week</td>\n",
       "      <td>fri</td>\n",
       "      <td>fri</td>\n",
       "      <td>7811</td>\n",
       "      <td>844</td>\n",
       "      <td>0.108053</td>\n",
       "      <td>6967</td>\n",
       "      <td>0.891947</td>\n",
       "      <td>0.182526</td>\n",
       "      <td>0.191070</td>\n",
       "      <td>-0.045750</td>\n",
       "      <td>0.006491</td>\n",
       "    </tr>\n",
       "    <tr>\n",
       "      <td>45</td>\n",
       "      <td>day_of_week</td>\n",
       "      <td>mon</td>\n",
       "      <td>mon</td>\n",
       "      <td>8494</td>\n",
       "      <td>844</td>\n",
       "      <td>0.099364</td>\n",
       "      <td>7650</td>\n",
       "      <td>0.900636</td>\n",
       "      <td>0.182526</td>\n",
       "      <td>0.209802</td>\n",
       "      <td>-0.139271</td>\n",
       "      <td>0.006491</td>\n",
       "    </tr>\n",
       "    <tr>\n",
       "      <td>46</td>\n",
       "      <td>day_of_week</td>\n",
       "      <td>thu</td>\n",
       "      <td>thu</td>\n",
       "      <td>8593</td>\n",
       "      <td>1040</td>\n",
       "      <td>0.121029</td>\n",
       "      <td>7553</td>\n",
       "      <td>0.878971</td>\n",
       "      <td>0.224913</td>\n",
       "      <td>0.207141</td>\n",
       "      <td>0.082314</td>\n",
       "      <td>0.006491</td>\n",
       "    </tr>\n",
       "    <tr>\n",
       "      <td>47</td>\n",
       "      <td>day_of_week</td>\n",
       "      <td>tue</td>\n",
       "      <td>tue</td>\n",
       "      <td>8071</td>\n",
       "      <td>952</td>\n",
       "      <td>0.117953</td>\n",
       "      <td>7119</td>\n",
       "      <td>0.882047</td>\n",
       "      <td>0.205882</td>\n",
       "      <td>0.195239</td>\n",
       "      <td>0.053080</td>\n",
       "      <td>0.006491</td>\n",
       "    </tr>\n",
       "    <tr>\n",
       "      <td>48</td>\n",
       "      <td>day_of_week</td>\n",
       "      <td>wed</td>\n",
       "      <td>wed</td>\n",
       "      <td>8118</td>\n",
       "      <td>944</td>\n",
       "      <td>0.116285</td>\n",
       "      <td>7174</td>\n",
       "      <td>0.883715</td>\n",
       "      <td>0.204152</td>\n",
       "      <td>0.196747</td>\n",
       "      <td>0.036945</td>\n",
       "      <td>0.006491</td>\n",
       "    </tr>\n",
       "    <tr>\n",
       "      <td>49</td>\n",
       "      <td>duration</td>\n",
       "      <td>0</td>\n",
       "      <td>39</td>\n",
       "      <td>2288</td>\n",
       "      <td>1</td>\n",
       "      <td>0.000437</td>\n",
       "      <td>2287</td>\n",
       "      <td>0.999563</td>\n",
       "      <td>0.000216</td>\n",
       "      <td>0.062721</td>\n",
       "      <td>-5.669958</td>\n",
       "      <td>1.913454</td>\n",
       "    </tr>\n",
       "    <tr>\n",
       "      <td>50</td>\n",
       "      <td>duration</td>\n",
       "      <td>40</td>\n",
       "      <td>63</td>\n",
       "      <td>2347</td>\n",
       "      <td>3</td>\n",
       "      <td>0.001278</td>\n",
       "      <td>2344</td>\n",
       "      <td>0.998722</td>\n",
       "      <td>0.000649</td>\n",
       "      <td>0.064284</td>\n",
       "      <td>-4.595964</td>\n",
       "      <td>1.913454</td>\n",
       "    </tr>\n",
       "    <tr>\n",
       "      <td>51</td>\n",
       "      <td>duration</td>\n",
       "      <td>64</td>\n",
       "      <td>79</td>\n",
       "      <td>2247</td>\n",
       "      <td>14</td>\n",
       "      <td>0.006231</td>\n",
       "      <td>2233</td>\n",
       "      <td>0.993769</td>\n",
       "      <td>0.003028</td>\n",
       "      <td>0.061240</td>\n",
       "      <td>-3.007006</td>\n",
       "      <td>1.913454</td>\n",
       "    </tr>\n",
       "    <tr>\n",
       "      <td>52</td>\n",
       "      <td>duration</td>\n",
       "      <td>80</td>\n",
       "      <td>95</td>\n",
       "      <td>2392</td>\n",
       "      <td>43</td>\n",
       "      <td>0.017977</td>\n",
       "      <td>2349</td>\n",
       "      <td>0.982023</td>\n",
       "      <td>0.009299</td>\n",
       "      <td>0.064421</td>\n",
       "      <td>-1.935507</td>\n",
       "      <td>1.913454</td>\n",
       "    </tr>\n",
       "    <tr>\n",
       "      <td>53</td>\n",
       "      <td>duration</td>\n",
       "      <td>96</td>\n",
       "      <td>110</td>\n",
       "      <td>2215</td>\n",
       "      <td>62</td>\n",
       "      <td>0.027991</td>\n",
       "      <td>2153</td>\n",
       "      <td>0.972009</td>\n",
       "      <td>0.013408</td>\n",
       "      <td>0.059046</td>\n",
       "      <td>-1.482445</td>\n",
       "      <td>1.913454</td>\n",
       "    </tr>\n",
       "    <tr>\n",
       "      <td>54</td>\n",
       "      <td>duration</td>\n",
       "      <td>111</td>\n",
       "      <td>126</td>\n",
       "      <td>2315</td>\n",
       "      <td>69</td>\n",
       "      <td>0.029806</td>\n",
       "      <td>2246</td>\n",
       "      <td>0.970194</td>\n",
       "      <td>0.014922</td>\n",
       "      <td>0.061597</td>\n",
       "      <td>-1.417762</td>\n",
       "      <td>1.913454</td>\n",
       "    </tr>\n",
       "    <tr>\n",
       "      <td>55</td>\n",
       "      <td>duration</td>\n",
       "      <td>127</td>\n",
       "      <td>142</td>\n",
       "      <td>2186</td>\n",
       "      <td>91</td>\n",
       "      <td>0.041629</td>\n",
       "      <td>2095</td>\n",
       "      <td>0.958371</td>\n",
       "      <td>0.019680</td>\n",
       "      <td>0.057456</td>\n",
       "      <td>-1.071411</td>\n",
       "      <td>1.913454</td>\n",
       "    </tr>\n",
       "    <tr>\n",
       "      <td>56</td>\n",
       "      <td>duration</td>\n",
       "      <td>143</td>\n",
       "      <td>160</td>\n",
       "      <td>2317</td>\n",
       "      <td>118</td>\n",
       "      <td>0.050928</td>\n",
       "      <td>2199</td>\n",
       "      <td>0.949072</td>\n",
       "      <td>0.025519</td>\n",
       "      <td>0.060308</td>\n",
       "      <td>-0.860035</td>\n",
       "      <td>1.913454</td>\n",
       "    </tr>\n",
       "    <tr>\n",
       "      <td>57</td>\n",
       "      <td>duration</td>\n",
       "      <td>161</td>\n",
       "      <td>180</td>\n",
       "      <td>2348</td>\n",
       "      <td>159</td>\n",
       "      <td>0.067717</td>\n",
       "      <td>2189</td>\n",
       "      <td>0.932283</td>\n",
       "      <td>0.034386</td>\n",
       "      <td>0.060033</td>\n",
       "      <td>-0.557258</td>\n",
       "      <td>1.913454</td>\n",
       "    </tr>\n",
       "    <tr>\n",
       "      <td>58</td>\n",
       "      <td>duration</td>\n",
       "      <td>181</td>\n",
       "      <td>202</td>\n",
       "      <td>2256</td>\n",
       "      <td>170</td>\n",
       "      <td>0.075355</td>\n",
       "      <td>2086</td>\n",
       "      <td>0.924645</td>\n",
       "      <td>0.036765</td>\n",
       "      <td>0.057209</td>\n",
       "      <td>-0.442167</td>\n",
       "      <td>1.913454</td>\n",
       "    </tr>\n",
       "    <tr>\n",
       "      <td>59</td>\n",
       "      <td>duration</td>\n",
       "      <td>203</td>\n",
       "      <td>227</td>\n",
       "      <td>2240</td>\n",
       "      <td>217</td>\n",
       "      <td>0.096875</td>\n",
       "      <td>2023</td>\n",
       "      <td>0.903125</td>\n",
       "      <td>0.046929</td>\n",
       "      <td>0.055481</td>\n",
       "      <td>-0.167402</td>\n",
       "      <td>1.913454</td>\n",
       "    </tr>\n",
       "    <tr>\n",
       "      <td>60</td>\n",
       "      <td>duration</td>\n",
       "      <td>228</td>\n",
       "      <td>257</td>\n",
       "      <td>2242</td>\n",
       "      <td>242</td>\n",
       "      <td>0.107939</td>\n",
       "      <td>2000</td>\n",
       "      <td>0.892061</td>\n",
       "      <td>0.052336</td>\n",
       "      <td>0.054850</td>\n",
       "      <td>-0.046927</td>\n",
       "      <td>1.913454</td>\n",
       "    </tr>\n",
       "    <tr>\n",
       "      <td>61</td>\n",
       "      <td>duration</td>\n",
       "      <td>258</td>\n",
       "      <td>296</td>\n",
       "      <td>2315</td>\n",
       "      <td>302</td>\n",
       "      <td>0.130454</td>\n",
       "      <td>2013</td>\n",
       "      <td>0.869546</td>\n",
       "      <td>0.065311</td>\n",
       "      <td>0.055207</td>\n",
       "      <td>0.168084</td>\n",
       "      <td>1.913454</td>\n",
       "    </tr>\n",
       "    <tr>\n",
       "      <td>62</td>\n",
       "      <td>duration</td>\n",
       "      <td>297</td>\n",
       "      <td>345</td>\n",
       "      <td>2301</td>\n",
       "      <td>306</td>\n",
       "      <td>0.132986</td>\n",
       "      <td>1995</td>\n",
       "      <td>0.867014</td>\n",
       "      <td>0.066176</td>\n",
       "      <td>0.054713</td>\n",
       "      <td>0.190224</td>\n",
       "      <td>1.913454</td>\n",
       "    </tr>\n",
       "    <tr>\n",
       "      <td>63</td>\n",
       "      <td>duration</td>\n",
       "      <td>346</td>\n",
       "      <td>411</td>\n",
       "      <td>2246</td>\n",
       "      <td>348</td>\n",
       "      <td>0.154942</td>\n",
       "      <td>1898</td>\n",
       "      <td>0.845058</td>\n",
       "      <td>0.075260</td>\n",
       "      <td>0.052053</td>\n",
       "      <td>0.368684</td>\n",
       "      <td>1.913454</td>\n",
       "    </tr>\n",
       "    <tr>\n",
       "      <td>64</td>\n",
       "      <td>duration</td>\n",
       "      <td>412</td>\n",
       "      <td>520</td>\n",
       "      <td>2272</td>\n",
       "      <td>465</td>\n",
       "      <td>0.204665</td>\n",
       "      <td>1807</td>\n",
       "      <td>0.795335</td>\n",
       "      <td>0.100562</td>\n",
       "      <td>0.049557</td>\n",
       "      <td>0.707652</td>\n",
       "      <td>1.913454</td>\n",
       "    </tr>\n",
       "    <tr>\n",
       "      <td>65</td>\n",
       "      <td>duration</td>\n",
       "      <td>521</td>\n",
       "      <td>720</td>\n",
       "      <td>2280</td>\n",
       "      <td>791</td>\n",
       "      <td>0.346930</td>\n",
       "      <td>1489</td>\n",
       "      <td>0.653070</td>\n",
       "      <td>0.171064</td>\n",
       "      <td>0.040836</td>\n",
       "      <td>1.432476</td>\n",
       "      <td>1.913454</td>\n",
       "    </tr>\n",
       "    <tr>\n",
       "      <td>66</td>\n",
       "      <td>duration</td>\n",
       "      <td>721</td>\n",
       "      <td>4918</td>\n",
       "      <td>2280</td>\n",
       "      <td>1223</td>\n",
       "      <td>0.536404</td>\n",
       "      <td>1057</td>\n",
       "      <td>0.463596</td>\n",
       "      <td>0.264490</td>\n",
       "      <td>0.028988</td>\n",
       "      <td>2.210910</td>\n",
       "      <td>1.913454</td>\n",
       "    </tr>\n",
       "    <tr>\n",
       "      <td>67</td>\n",
       "      <td>campaign</td>\n",
       "      <td>1</td>\n",
       "      <td>2</td>\n",
       "      <td>28145</td>\n",
       "      <td>3499</td>\n",
       "      <td>0.124320</td>\n",
       "      <td>24646</td>\n",
       "      <td>0.875680</td>\n",
       "      <td>0.756704</td>\n",
       "      <td>0.675918</td>\n",
       "      <td>0.112901</td>\n",
       "      <td>0.032284</td>\n",
       "    </tr>\n",
       "    <tr>\n",
       "      <td>68</td>\n",
       "      <td>campaign</td>\n",
       "      <td>3</td>\n",
       "      <td>56</td>\n",
       "      <td>12942</td>\n",
       "      <td>1125</td>\n",
       "      <td>0.086926</td>\n",
       "      <td>11817</td>\n",
       "      <td>0.913074</td>\n",
       "      <td>0.243296</td>\n",
       "      <td>0.324082</td>\n",
       "      <td>-0.286718</td>\n",
       "      <td>0.032284</td>\n",
       "    </tr>\n",
       "    <tr>\n",
       "      <td>69</td>\n",
       "      <td>pdays</td>\n",
       "      <td>0</td>\n",
       "      <td>1</td>\n",
       "      <td>41</td>\n",
       "      <td>18</td>\n",
       "      <td>0.439024</td>\n",
       "      <td>23</td>\n",
       "      <td>0.560976</td>\n",
       "      <td>0.003893</td>\n",
       "      <td>0.000631</td>\n",
       "      <td>1.819915</td>\n",
       "      <td>0.005947</td>\n",
       "    </tr>\n",
       "    <tr>\n",
       "      <td>70</td>\n",
       "      <td>pdays</td>\n",
       "      <td>2</td>\n",
       "      <td>999</td>\n",
       "      <td>41046</td>\n",
       "      <td>4606</td>\n",
       "      <td>0.112216</td>\n",
       "      <td>36440</td>\n",
       "      <td>0.887784</td>\n",
       "      <td>0.996107</td>\n",
       "      <td>0.999369</td>\n",
       "      <td>-0.003269</td>\n",
       "      <td>0.005947</td>\n",
       "    </tr>\n",
       "    <tr>\n",
       "      <td>71</td>\n",
       "      <td>previous</td>\n",
       "      <td>0</td>\n",
       "      <td>1</td>\n",
       "      <td>40027</td>\n",
       "      <td>4095</td>\n",
       "      <td>0.102306</td>\n",
       "      <td>35932</td>\n",
       "      <td>0.897694</td>\n",
       "      <td>0.885597</td>\n",
       "      <td>0.985437</td>\n",
       "      <td>-0.106824</td>\n",
       "      <td>0.216463</td>\n",
       "    </tr>\n",
       "    <tr>\n",
       "      <td>72</td>\n",
       "      <td>previous</td>\n",
       "      <td>2</td>\n",
       "      <td>7</td>\n",
       "      <td>1060</td>\n",
       "      <td>529</td>\n",
       "      <td>0.499057</td>\n",
       "      <td>531</td>\n",
       "      <td>0.500943</td>\n",
       "      <td>0.114403</td>\n",
       "      <td>0.014563</td>\n",
       "      <td>2.061264</td>\n",
       "      <td>0.216463</td>\n",
       "    </tr>\n",
       "    <tr>\n",
       "      <td>73</td>\n",
       "      <td>poutcome</td>\n",
       "      <td>failure</td>\n",
       "      <td>failure</td>\n",
       "      <td>4237</td>\n",
       "      <td>604</td>\n",
       "      <td>0.142554</td>\n",
       "      <td>3633</td>\n",
       "      <td>0.857446</td>\n",
       "      <td>0.130623</td>\n",
       "      <td>0.099635</td>\n",
       "      <td>0.270798</td>\n",
       "      <td>0.547667</td>\n",
       "    </tr>\n",
       "    <tr>\n",
       "      <td>74</td>\n",
       "      <td>poutcome</td>\n",
       "      <td>nonexistent</td>\n",
       "      <td>nonexistent</td>\n",
       "      <td>35483</td>\n",
       "      <td>3130</td>\n",
       "      <td>0.088211</td>\n",
       "      <td>32353</td>\n",
       "      <td>0.911789</td>\n",
       "      <td>0.676903</td>\n",
       "      <td>0.887283</td>\n",
       "      <td>-0.270636</td>\n",
       "      <td>0.547667</td>\n",
       "    </tr>\n",
       "    <tr>\n",
       "      <td>75</td>\n",
       "      <td>poutcome</td>\n",
       "      <td>success</td>\n",
       "      <td>success</td>\n",
       "      <td>1367</td>\n",
       "      <td>890</td>\n",
       "      <td>0.651061</td>\n",
       "      <td>477</td>\n",
       "      <td>0.348939</td>\n",
       "      <td>0.192474</td>\n",
       "      <td>0.013082</td>\n",
       "      <td>2.688743</td>\n",
       "      <td>0.547667</td>\n",
       "    </tr>\n",
       "    <tr>\n",
       "      <td>76</td>\n",
       "      <td>emp.var.rate</td>\n",
       "      <td>-3.4</td>\n",
       "      <td>1.1</td>\n",
       "      <td>24887</td>\n",
       "      <td>3762</td>\n",
       "      <td>0.151163</td>\n",
       "      <td>21125</td>\n",
       "      <td>0.848837</td>\n",
       "      <td>0.813581</td>\n",
       "      <td>0.579354</td>\n",
       "      <td>0.339531</td>\n",
       "      <td>0.270140</td>\n",
       "    </tr>\n",
       "    <tr>\n",
       "      <td>77</td>\n",
       "      <td>emp.var.rate</td>\n",
       "      <td>1.4</td>\n",
       "      <td>1.4</td>\n",
       "      <td>16200</td>\n",
       "      <td>862</td>\n",
       "      <td>0.053210</td>\n",
       "      <td>15338</td>\n",
       "      <td>0.946790</td>\n",
       "      <td>0.186419</td>\n",
       "      <td>0.420646</td>\n",
       "      <td>-0.813796</td>\n",
       "      <td>0.270140</td>\n",
       "    </tr>\n",
       "    <tr>\n",
       "      <td>78</td>\n",
       "      <td>cons.price.idx</td>\n",
       "      <td>92.201</td>\n",
       "      <td>93.2</td>\n",
       "      <td>15019</td>\n",
       "      <td>2410</td>\n",
       "      <td>0.160463</td>\n",
       "      <td>12609</td>\n",
       "      <td>0.839537</td>\n",
       "      <td>0.521194</td>\n",
       "      <td>0.345803</td>\n",
       "      <td>0.410254</td>\n",
       "      <td>0.126859</td>\n",
       "    </tr>\n",
       "    <tr>\n",
       "      <td>79</td>\n",
       "      <td>cons.price.idx</td>\n",
       "      <td>93.369</td>\n",
       "      <td>93.918</td>\n",
       "      <td>12550</td>\n",
       "      <td>1083</td>\n",
       "      <td>0.086295</td>\n",
       "      <td>11467</td>\n",
       "      <td>0.913705</td>\n",
       "      <td>0.234213</td>\n",
       "      <td>0.314483</td>\n",
       "      <td>-0.294700</td>\n",
       "      <td>0.126859</td>\n",
       "    </tr>\n",
       "    <tr>\n",
       "      <td>80</td>\n",
       "      <td>cons.price.idx</td>\n",
       "      <td>93.994</td>\n",
       "      <td>94.767</td>\n",
       "      <td>13518</td>\n",
       "      <td>1131</td>\n",
       "      <td>0.083666</td>\n",
       "      <td>12387</td>\n",
       "      <td>0.916334</td>\n",
       "      <td>0.244593</td>\n",
       "      <td>0.339714</td>\n",
       "      <td>-0.328507</td>\n",
       "      <td>0.126859</td>\n",
       "    </tr>\n",
       "    <tr>\n",
       "      <td>81</td>\n",
       "      <td>cons.conf.idx</td>\n",
       "      <td>-50.8</td>\n",
       "      <td>-41.8</td>\n",
       "      <td>23491</td>\n",
       "      <td>2024</td>\n",
       "      <td>0.086161</td>\n",
       "      <td>21467</td>\n",
       "      <td>0.913839</td>\n",
       "      <td>0.437716</td>\n",
       "      <td>0.588734</td>\n",
       "      <td>-0.296403</td>\n",
       "      <td>0.091995</td>\n",
       "    </tr>\n",
       "    <tr>\n",
       "      <td>82</td>\n",
       "      <td>cons.conf.idx</td>\n",
       "      <td>-40.8</td>\n",
       "      <td>-26.9</td>\n",
       "      <td>17596</td>\n",
       "      <td>2600</td>\n",
       "      <td>0.147761</td>\n",
       "      <td>14996</td>\n",
       "      <td>0.852239</td>\n",
       "      <td>0.562284</td>\n",
       "      <td>0.411266</td>\n",
       "      <td>0.312766</td>\n",
       "      <td>0.091995</td>\n",
       "    </tr>\n",
       "    <tr>\n",
       "      <td>83</td>\n",
       "      <td>euribor3m</td>\n",
       "      <td>0.634</td>\n",
       "      <td>4.857</td>\n",
       "      <td>21996</td>\n",
       "      <td>3614</td>\n",
       "      <td>0.164303</td>\n",
       "      <td>18382</td>\n",
       "      <td>0.835697</td>\n",
       "      <td>0.781574</td>\n",
       "      <td>0.504127</td>\n",
       "      <td>0.438481</td>\n",
       "      <td>0.349127</td>\n",
       "    </tr>\n",
       "    <tr>\n",
       "      <td>84</td>\n",
       "      <td>euribor3m</td>\n",
       "      <td>4.858</td>\n",
       "      <td>5.045</td>\n",
       "      <td>19091</td>\n",
       "      <td>1010</td>\n",
       "      <td>0.052905</td>\n",
       "      <td>18081</td>\n",
       "      <td>0.947095</td>\n",
       "      <td>0.218426</td>\n",
       "      <td>0.495873</td>\n",
       "      <td>-0.819873</td>\n",
       "      <td>0.349127</td>\n",
       "    </tr>\n",
       "    <tr>\n",
       "      <td>85</td>\n",
       "      <td>nr.employed</td>\n",
       "      <td>4963.6</td>\n",
       "      <td>5191</td>\n",
       "      <td>21215</td>\n",
       "      <td>3531</td>\n",
       "      <td>0.166439</td>\n",
       "      <td>17684</td>\n",
       "      <td>0.833561</td>\n",
       "      <td>0.763625</td>\n",
       "      <td>0.484985</td>\n",
       "      <td>0.453959</td>\n",
       "      <td>0.343489</td>\n",
       "    </tr>\n",
       "    <tr>\n",
       "      <td>86</td>\n",
       "      <td>nr.employed</td>\n",
       "      <td>5195.8</td>\n",
       "      <td>5228.1</td>\n",
       "      <td>19872</td>\n",
       "      <td>1093</td>\n",
       "      <td>0.055002</td>\n",
       "      <td>18779</td>\n",
       "      <td>0.944998</td>\n",
       "      <td>0.236375</td>\n",
       "      <td>0.515015</td>\n",
       "      <td>-0.778775</td>\n",
       "      <td>0.343489</td>\n",
       "    </tr>\n",
       "  </tbody>\n",
       "</table>\n",
       "</div>"
      ],
      "text/plain": [
       "          VAR_NAME            MIN_VALUE            MAX_VALUE  COUNT  EVENT  \\\n",
       "0              age                   17                   38  21123   2515   \n",
       "1              age                   39                   98  19964   2109   \n",
       "2              job               admin.               admin.  10407   1350   \n",
       "3              job          blue-collar          blue-collar   9232    635   \n",
       "4              job         entrepreneur         entrepreneur   1451    122   \n",
       "5              job            housemaid            housemaid   1056    106   \n",
       "6              job           management           management   2921    328   \n",
       "7              job              retired              retired   1712    431   \n",
       "8              job        self-employed        self-employed   1413    148   \n",
       "9              job             services             services   3963    323   \n",
       "10             job              student              student    874    275   \n",
       "11             job           technician           technician   6729    728   \n",
       "12             job           unemployed           unemployed   1008    144   \n",
       "13             job              unknown              unknown    321     34   \n",
       "14         marital             divorced             divorced   4610    475   \n",
       "15         marital              married              married  24910   2529   \n",
       "16         marital               single               single  11567   1620   \n",
       "17       education             basic.4y             basic.4y   4170    427   \n",
       "18       education             basic.6y             basic.6y   2286    188   \n",
       "19       education             basic.9y             basic.9y   6037    471   \n",
       "20       education          high.school          high.school   9500   1030   \n",
       "21       education  professional.course  professional.course   5235    595   \n",
       "22       education    university.degree    university.degree  12137   1664   \n",
       "23       education              unknown              unknown   1722    249   \n",
       "24         default                   no                   no  32508   4182   \n",
       "25         default              unknown              unknown   8579    442   \n",
       "26         housing                   no                   no  18568   2018   \n",
       "27         housing              unknown              unknown    989    107   \n",
       "28         housing                  yes                  yes  21530   2499   \n",
       "29            loan                   no                   no  33865   3836   \n",
       "30            loan              unknown              unknown    989    107   \n",
       "31            loan                  yes                  yes   6233    681   \n",
       "32         contact             cellular             cellular  26073   3839   \n",
       "33         contact            telephone            telephone  15014    785   \n",
       "34           month                  apr                  apr   2627    538   \n",
       "35           month                  aug                  aug   6161    649   \n",
       "36           month                  dec                  dec    182     89   \n",
       "37           month                  jul                  jul   7160    647   \n",
       "38           month                  jun                  jun   5306    558   \n",
       "39           month                  mar                  mar    543    274   \n",
       "40           month                  may                  may  13733    884   \n",
       "41           month                  nov                  nov   4090    415   \n",
       "42           month                  oct                  oct    715    314   \n",
       "43           month                  sep                  sep    570    256   \n",
       "44     day_of_week                  fri                  fri   7811    844   \n",
       "45     day_of_week                  mon                  mon   8494    844   \n",
       "46     day_of_week                  thu                  thu   8593   1040   \n",
       "47     day_of_week                  tue                  tue   8071    952   \n",
       "48     day_of_week                  wed                  wed   8118    944   \n",
       "49        duration                    0                   39   2288      1   \n",
       "50        duration                   40                   63   2347      3   \n",
       "51        duration                   64                   79   2247     14   \n",
       "52        duration                   80                   95   2392     43   \n",
       "53        duration                   96                  110   2215     62   \n",
       "54        duration                  111                  126   2315     69   \n",
       "55        duration                  127                  142   2186     91   \n",
       "56        duration                  143                  160   2317    118   \n",
       "57        duration                  161                  180   2348    159   \n",
       "58        duration                  181                  202   2256    170   \n",
       "59        duration                  203                  227   2240    217   \n",
       "60        duration                  228                  257   2242    242   \n",
       "61        duration                  258                  296   2315    302   \n",
       "62        duration                  297                  345   2301    306   \n",
       "63        duration                  346                  411   2246    348   \n",
       "64        duration                  412                  520   2272    465   \n",
       "65        duration                  521                  720   2280    791   \n",
       "66        duration                  721                 4918   2280   1223   \n",
       "67        campaign                    1                    2  28145   3499   \n",
       "68        campaign                    3                   56  12942   1125   \n",
       "69           pdays                    0                    1     41     18   \n",
       "70           pdays                    2                  999  41046   4606   \n",
       "71        previous                    0                    1  40027   4095   \n",
       "72        previous                    2                    7   1060    529   \n",
       "73        poutcome              failure              failure   4237    604   \n",
       "74        poutcome          nonexistent          nonexistent  35483   3130   \n",
       "75        poutcome              success              success   1367    890   \n",
       "76    emp.var.rate                 -3.4                  1.1  24887   3762   \n",
       "77    emp.var.rate                  1.4                  1.4  16200    862   \n",
       "78  cons.price.idx               92.201                 93.2  15019   2410   \n",
       "79  cons.price.idx               93.369               93.918  12550   1083   \n",
       "80  cons.price.idx               93.994               94.767  13518   1131   \n",
       "81   cons.conf.idx                -50.8                -41.8  23491   2024   \n",
       "82   cons.conf.idx                -40.8                -26.9  17596   2600   \n",
       "83       euribor3m                0.634                4.857  21996   3614   \n",
       "84       euribor3m                4.858                5.045  19091   1010   \n",
       "85     nr.employed               4963.6                 5191  21215   3531   \n",
       "86     nr.employed               5195.8               5228.1  19872   1093   \n",
       "\n",
       "    EVENT_RATE  NONEVENT  NON_EVENT_RATE  DIST_EVENT  DIST_NON_EVENT  \\\n",
       "0     0.119065     18608        0.880935    0.543901        0.510326   \n",
       "1     0.105640     17855        0.894360    0.456099        0.489674   \n",
       "2     0.129720      9057        0.870280    0.291955        0.248389   \n",
       "3     0.068782      8597        0.931218    0.137327        0.235773   \n",
       "4     0.084080      1329        0.915920    0.026384        0.036448   \n",
       "5     0.100379       950        0.899621    0.022924        0.026054   \n",
       "6     0.112290      2593        0.887710    0.070934        0.071113   \n",
       "7     0.251752      1281        0.748248    0.093209        0.035132   \n",
       "8     0.104742      1265        0.895258    0.032007        0.034693   \n",
       "9     0.081504      3640        0.918496    0.069853        0.099827   \n",
       "10    0.314645       599        0.685355    0.059472        0.016428   \n",
       "11    0.108188      6001        0.891812    0.157439        0.164578   \n",
       "12    0.142857       864        0.857143    0.031142        0.023695   \n",
       "13    0.105919       287        0.894081    0.007353        0.007871   \n",
       "14    0.103037      4135        0.896963    0.102725        0.113403   \n",
       "15    0.101525     22381        0.898475    0.546929        0.613800   \n",
       "16    0.140054      9947        0.859946    0.350346        0.272797   \n",
       "17    0.102398      3743        0.897602    0.092344        0.102652   \n",
       "18    0.082240      2098        0.917760    0.040657        0.057538   \n",
       "19    0.078019      5566        0.921981    0.101860        0.152648   \n",
       "20    0.108421      8470        0.891579    0.222751        0.232290   \n",
       "21    0.113658      4640        0.886342    0.128676        0.127252   \n",
       "22    0.137101     10473        0.862899    0.359862        0.287223   \n",
       "23    0.144599      1473        0.855401    0.053849        0.040397   \n",
       "24    0.128645     28326        0.871355    0.904412        0.776842   \n",
       "25    0.051521      8137        0.948479    0.095588        0.223158   \n",
       "26    0.108682     16550        0.891318    0.436419        0.453885   \n",
       "27    0.108190       882        0.891810    0.023140        0.024189   \n",
       "28    0.116071     19031        0.883929    0.540441        0.521926   \n",
       "29    0.113273     30029        0.886727    0.829585        0.823547   \n",
       "30    0.108190       882        0.891810    0.023140        0.024189   \n",
       "31    0.109257      5552        0.890743    0.147275        0.152264   \n",
       "32    0.147240     22234        0.852760    0.830234        0.609769   \n",
       "33    0.052285     14229        0.947715    0.169766        0.390231   \n",
       "34    0.204796      2089        0.795204    0.116349        0.057291   \n",
       "35    0.105340      5512        0.894660    0.140355        0.151167   \n",
       "36    0.489011        93        0.510989    0.019247        0.002551   \n",
       "37    0.090363      6513        0.909637    0.139922        0.178619   \n",
       "38    0.105164      4748        0.894836    0.120675        0.130214   \n",
       "39    0.504604       269        0.495396    0.059256        0.007377   \n",
       "40    0.064370     12849        0.935630    0.191176        0.352385   \n",
       "41    0.101467      3675        0.898533    0.089749        0.100787   \n",
       "42    0.439161       401        0.560839    0.067907        0.010997   \n",
       "43    0.449123       314        0.550877    0.055363        0.008611   \n",
       "44    0.108053      6967        0.891947    0.182526        0.191070   \n",
       "45    0.099364      7650        0.900636    0.182526        0.209802   \n",
       "46    0.121029      7553        0.878971    0.224913        0.207141   \n",
       "47    0.117953      7119        0.882047    0.205882        0.195239   \n",
       "48    0.116285      7174        0.883715    0.204152        0.196747   \n",
       "49    0.000437      2287        0.999563    0.000216        0.062721   \n",
       "50    0.001278      2344        0.998722    0.000649        0.064284   \n",
       "51    0.006231      2233        0.993769    0.003028        0.061240   \n",
       "52    0.017977      2349        0.982023    0.009299        0.064421   \n",
       "53    0.027991      2153        0.972009    0.013408        0.059046   \n",
       "54    0.029806      2246        0.970194    0.014922        0.061597   \n",
       "55    0.041629      2095        0.958371    0.019680        0.057456   \n",
       "56    0.050928      2199        0.949072    0.025519        0.060308   \n",
       "57    0.067717      2189        0.932283    0.034386        0.060033   \n",
       "58    0.075355      2086        0.924645    0.036765        0.057209   \n",
       "59    0.096875      2023        0.903125    0.046929        0.055481   \n",
       "60    0.107939      2000        0.892061    0.052336        0.054850   \n",
       "61    0.130454      2013        0.869546    0.065311        0.055207   \n",
       "62    0.132986      1995        0.867014    0.066176        0.054713   \n",
       "63    0.154942      1898        0.845058    0.075260        0.052053   \n",
       "64    0.204665      1807        0.795335    0.100562        0.049557   \n",
       "65    0.346930      1489        0.653070    0.171064        0.040836   \n",
       "66    0.536404      1057        0.463596    0.264490        0.028988   \n",
       "67    0.124320     24646        0.875680    0.756704        0.675918   \n",
       "68    0.086926     11817        0.913074    0.243296        0.324082   \n",
       "69    0.439024        23        0.560976    0.003893        0.000631   \n",
       "70    0.112216     36440        0.887784    0.996107        0.999369   \n",
       "71    0.102306     35932        0.897694    0.885597        0.985437   \n",
       "72    0.499057       531        0.500943    0.114403        0.014563   \n",
       "73    0.142554      3633        0.857446    0.130623        0.099635   \n",
       "74    0.088211     32353        0.911789    0.676903        0.887283   \n",
       "75    0.651061       477        0.348939    0.192474        0.013082   \n",
       "76    0.151163     21125        0.848837    0.813581        0.579354   \n",
       "77    0.053210     15338        0.946790    0.186419        0.420646   \n",
       "78    0.160463     12609        0.839537    0.521194        0.345803   \n",
       "79    0.086295     11467        0.913705    0.234213        0.314483   \n",
       "80    0.083666     12387        0.916334    0.244593        0.339714   \n",
       "81    0.086161     21467        0.913839    0.437716        0.588734   \n",
       "82    0.147761     14996        0.852239    0.562284        0.411266   \n",
       "83    0.164303     18382        0.835697    0.781574        0.504127   \n",
       "84    0.052905     18081        0.947095    0.218426        0.495873   \n",
       "85    0.166439     17684        0.833561    0.763625        0.484985   \n",
       "86    0.055002     18779        0.944998    0.236375        0.515015   \n",
       "\n",
       "         WOE        IV  \n",
       "0   0.063719  0.004524  \n",
       "1  -0.071032  0.004524  \n",
       "2   0.161605  0.189258  \n",
       "3  -0.540506  0.189258  \n",
       "4  -0.323123  0.189258  \n",
       "5  -0.127985  0.189258  \n",
       "6  -0.002519  0.189258  \n",
       "7   0.975750  0.189258  \n",
       "8  -0.080577  0.189258  \n",
       "9  -0.357049  0.189258  \n",
       "10  1.286547  0.189258  \n",
       "11 -0.044342  0.189258  \n",
       "12  0.273278  0.189258  \n",
       "13 -0.068084  0.189258  \n",
       "14 -0.098890  0.028172  \n",
       "15 -0.115351  0.028172  \n",
       "16  0.250193  0.028172  \n",
       "17 -0.105821  0.048158  \n",
       "18 -0.347260  0.048158  \n",
       "19 -0.404536  0.048158  \n",
       "20 -0.041934  0.048158  \n",
       "21  0.011130  0.048158  \n",
       "22  0.225462  0.048158  \n",
       "23  0.287434  0.048158  \n",
       "24  0.152047  0.127554  \n",
       "25 -0.847829  0.127554  \n",
       "26 -0.039241  0.001377  \n",
       "27 -0.044325  0.001377  \n",
       "28  0.034859  0.001377  \n",
       "29  0.007304  0.000257  \n",
       "30 -0.044325  0.000257  \n",
       "31 -0.033313  0.000257  \n",
       "32  0.308627  0.251538  \n",
       "33 -0.832316  0.251538  \n",
       "34  0.708456  0.485111  \n",
       "35 -0.074212  0.485111  \n",
       "36  2.021075  0.485111  \n",
       "37 -0.244171  0.485111  \n",
       "38 -0.076082  0.485111  \n",
       "39  2.083455  0.485111  \n",
       "40 -0.611526  0.485111  \n",
       "41 -0.115992  0.485111  \n",
       "42  1.820469  0.485111  \n",
       "43  1.860822  0.485111  \n",
       "44 -0.045750  0.006491  \n",
       "45 -0.139271  0.006491  \n",
       "46  0.082314  0.006491  \n",
       "47  0.053080  0.006491  \n",
       "48  0.036945  0.006491  \n",
       "49 -5.669958  1.913454  \n",
       "50 -4.595964  1.913454  \n",
       "51 -3.007006  1.913454  \n",
       "52 -1.935507  1.913454  \n",
       "53 -1.482445  1.913454  \n",
       "54 -1.417762  1.913454  \n",
       "55 -1.071411  1.913454  \n",
       "56 -0.860035  1.913454  \n",
       "57 -0.557258  1.913454  \n",
       "58 -0.442167  1.913454  \n",
       "59 -0.167402  1.913454  \n",
       "60 -0.046927  1.913454  \n",
       "61  0.168084  1.913454  \n",
       "62  0.190224  1.913454  \n",
       "63  0.368684  1.913454  \n",
       "64  0.707652  1.913454  \n",
       "65  1.432476  1.913454  \n",
       "66  2.210910  1.913454  \n",
       "67  0.112901  0.032284  \n",
       "68 -0.286718  0.032284  \n",
       "69  1.819915  0.005947  \n",
       "70 -0.003269  0.005947  \n",
       "71 -0.106824  0.216463  \n",
       "72  2.061264  0.216463  \n",
       "73  0.270798  0.547667  \n",
       "74 -0.270636  0.547667  \n",
       "75  2.688743  0.547667  \n",
       "76  0.339531  0.270140  \n",
       "77 -0.813796  0.270140  \n",
       "78  0.410254  0.126859  \n",
       "79 -0.294700  0.126859  \n",
       "80 -0.328507  0.126859  \n",
       "81 -0.296403  0.091995  \n",
       "82  0.312766  0.091995  \n",
       "83  0.438481  0.349127  \n",
       "84 -0.819873  0.349127  \n",
       "85  0.453959  0.343489  \n",
       "86 -0.778775  0.343489  "
      ]
     },
     "execution_count": 10,
     "metadata": {},
     "output_type": "execute_result"
    }
   ],
   "source": [
    "pd.options.display.max_rows = 1000\n",
    "final_iv"
   ]
  },
  {
   "cell_type": "code",
   "execution_count": 11,
   "metadata": {},
   "outputs": [
    {
     "data": {
      "text/html": [
       "<div>\n",
       "<style scoped>\n",
       "    .dataframe tbody tr th:only-of-type {\n",
       "        vertical-align: middle;\n",
       "    }\n",
       "\n",
       "    .dataframe tbody tr th {\n",
       "        vertical-align: top;\n",
       "    }\n",
       "\n",
       "    .dataframe thead th {\n",
       "        text-align: right;\n",
       "    }\n",
       "</style>\n",
       "<table border=\"1\" class=\"dataframe\">\n",
       "  <thead>\n",
       "    <tr style=\"text-align: right;\">\n",
       "      <th></th>\n",
       "      <th>VAR_NAME</th>\n",
       "      <th>IV</th>\n",
       "    </tr>\n",
       "  </thead>\n",
       "  <tbody>\n",
       "    <tr>\n",
       "      <td>13</td>\n",
       "      <td>loan</td>\n",
       "      <td>0.000257</td>\n",
       "    </tr>\n",
       "    <tr>\n",
       "      <td>11</td>\n",
       "      <td>housing</td>\n",
       "      <td>0.001377</td>\n",
       "    </tr>\n",
       "    <tr>\n",
       "      <td>0</td>\n",
       "      <td>age</td>\n",
       "      <td>0.004524</td>\n",
       "    </tr>\n",
       "    <tr>\n",
       "      <td>17</td>\n",
       "      <td>pdays</td>\n",
       "      <td>0.005947</td>\n",
       "    </tr>\n",
       "    <tr>\n",
       "      <td>5</td>\n",
       "      <td>day_of_week</td>\n",
       "      <td>0.006491</td>\n",
       "    </tr>\n",
       "    <tr>\n",
       "      <td>14</td>\n",
       "      <td>marital</td>\n",
       "      <td>0.028172</td>\n",
       "    </tr>\n",
       "    <tr>\n",
       "      <td>1</td>\n",
       "      <td>campaign</td>\n",
       "      <td>0.032284</td>\n",
       "    </tr>\n",
       "    <tr>\n",
       "      <td>8</td>\n",
       "      <td>education</td>\n",
       "      <td>0.048158</td>\n",
       "    </tr>\n",
       "    <tr>\n",
       "      <td>2</td>\n",
       "      <td>cons.conf.idx</td>\n",
       "      <td>0.091995</td>\n",
       "    </tr>\n",
       "    <tr>\n",
       "      <td>3</td>\n",
       "      <td>cons.price.idx</td>\n",
       "      <td>0.126859</td>\n",
       "    </tr>\n",
       "    <tr>\n",
       "      <td>6</td>\n",
       "      <td>default</td>\n",
       "      <td>0.127554</td>\n",
       "    </tr>\n",
       "    <tr>\n",
       "      <td>12</td>\n",
       "      <td>job</td>\n",
       "      <td>0.189258</td>\n",
       "    </tr>\n",
       "    <tr>\n",
       "      <td>19</td>\n",
       "      <td>previous</td>\n",
       "      <td>0.216463</td>\n",
       "    </tr>\n",
       "    <tr>\n",
       "      <td>4</td>\n",
       "      <td>contact</td>\n",
       "      <td>0.251538</td>\n",
       "    </tr>\n",
       "    <tr>\n",
       "      <td>9</td>\n",
       "      <td>emp.var.rate</td>\n",
       "      <td>0.270140</td>\n",
       "    </tr>\n",
       "    <tr>\n",
       "      <td>16</td>\n",
       "      <td>nr.employed</td>\n",
       "      <td>0.343489</td>\n",
       "    </tr>\n",
       "    <tr>\n",
       "      <td>10</td>\n",
       "      <td>euribor3m</td>\n",
       "      <td>0.349127</td>\n",
       "    </tr>\n",
       "    <tr>\n",
       "      <td>15</td>\n",
       "      <td>month</td>\n",
       "      <td>0.485111</td>\n",
       "    </tr>\n",
       "    <tr>\n",
       "      <td>18</td>\n",
       "      <td>poutcome</td>\n",
       "      <td>0.547667</td>\n",
       "    </tr>\n",
       "    <tr>\n",
       "      <td>7</td>\n",
       "      <td>duration</td>\n",
       "      <td>1.913454</td>\n",
       "    </tr>\n",
       "  </tbody>\n",
       "</table>\n",
       "</div>"
      ],
      "text/plain": [
       "          VAR_NAME        IV\n",
       "13            loan  0.000257\n",
       "11         housing  0.001377\n",
       "0              age  0.004524\n",
       "17           pdays  0.005947\n",
       "5      day_of_week  0.006491\n",
       "14         marital  0.028172\n",
       "1         campaign  0.032284\n",
       "8        education  0.048158\n",
       "2    cons.conf.idx  0.091995\n",
       "3   cons.price.idx  0.126859\n",
       "6          default  0.127554\n",
       "12             job  0.189258\n",
       "19        previous  0.216463\n",
       "4          contact  0.251538\n",
       "9     emp.var.rate  0.270140\n",
       "16     nr.employed  0.343489\n",
       "10       euribor3m  0.349127\n",
       "15           month  0.485111\n",
       "18        poutcome  0.547667\n",
       "7         duration  1.913454"
      ]
     },
     "execution_count": 11,
     "metadata": {},
     "output_type": "execute_result"
    }
   ],
   "source": [
    "IV.sort_values('IV')"
   ]
  },
  {
   "cell_type": "markdown",
   "metadata": {},
   "source": [
    "From the IV information, we could see that the IV value of duration is very suspicious, and as explained in the description that this predictor should be excluded to produce a realistic model"
   ]
  },
  {
   "cell_type": "code",
   "execution_count": 12,
   "metadata": {},
   "outputs": [],
   "source": [
    "transform_vars_list = baf.columns.difference(['y'])\n",
    "transform_prefix = 'WOE_' # leave this value blank if you need replace the original column values"
   ]
  },
  {
   "cell_type": "code",
   "execution_count": 13,
   "metadata": {},
   "outputs": [],
   "source": [
    "for var in transform_vars_list:\n",
    "    small_df = final_iv[final_iv['VAR_NAME'] == var]\n",
    "    transform_dict = dict(zip(small_df.MAX_VALUE,small_df.WOE))\n",
    "    replace_cmd = ''\n",
    "    replace_cmd1 = ''\n",
    "    for i in sorted(transform_dict.items()):\n",
    "        replace_cmd = replace_cmd + str(i[1]) + str(' if x <= ') + str(i[0]) + ' else '\n",
    "        replace_cmd1 = replace_cmd1 + str(i[1]) + str(' if x == \"') + str(i[0]) + '\" else '\n",
    "    replace_cmd = replace_cmd + '0'\n",
    "    replace_cmd1 = replace_cmd1 + '0'\n",
    "    if replace_cmd != '0':\n",
    "        try:\n",
    "            baf[transform_prefix + var] = baf[var].apply(lambda x: eval(replace_cmd))\n",
    "        except:\n",
    "            baf[transform_prefix + var] = baf[var].apply(lambda x: eval(replace_cmd1))"
   ]
  },
  {
   "cell_type": "markdown",
   "metadata": {},
   "source": [
    "### 3.4 Final Data for Model"
   ]
  },
  {
   "cell_type": "markdown",
   "metadata": {},
   "source": [
    "Based on the IV, Expanding the Use of Weight of Evidence and Information Value to Continuous Dependent Variables for Variable Reduction and Scorecard Development by Alec Zhixiao Lin and friends predictive power of feature divided on 5:\n",
    "<br>\n",
    "<br>\n",
    "< 0.02         : unpredictive\n",
    "<br>\n",
    "0.02 - 0.1     : weak predictor\n",
    "<br>\n",
    "0.1 - 0.3      : medium predictor\n",
    "<br>\n",
    "0.3 - 0.5      : strong predictor\n",
    "<br>\n",
    "more than 0.5  : suspicious"
   ]
  },
  {
   "cell_type": "markdown",
   "metadata": {},
   "source": [
    "Than I will replace the new data set with the new ones with WOE information only"
   ]
  },
  {
   "cell_type": "code",
   "execution_count": 14,
   "metadata": {},
   "outputs": [],
   "source": [
    "for col in transform_vars_list:\n",
    "    predictor = 'WOE_' + transform_vars_list\n",
    "\n",
    "baf = pd.concat([baf[predictor],baf['y']],axis=1)"
   ]
  },
  {
   "cell_type": "markdown",
   "metadata": {},
   "source": [
    "Based on the rule of thumb mentioned before, I am removing predictor with **low IV** and of course **duration** since it is not good to make the realistic model"
   ]
  },
  {
   "cell_type": "code",
   "execution_count": 15,
   "metadata": {},
   "outputs": [],
   "source": [
    "low_IV = ['loan','housing','age','day_of_week','duration','pdays']\n",
    "removed_predictor = []\n",
    "\n",
    "for col in low_IV:\n",
    "    removed_predictor = removed_predictor + ['WOE_'+ col]"
   ]
  },
  {
   "cell_type": "code",
   "execution_count": 16,
   "metadata": {
    "scrolled": true
   },
   "outputs": [],
   "source": [
    "baf = baf.drop(removed_predictor,axis=1)"
   ]
  },
  {
   "cell_type": "markdown",
   "metadata": {},
   "source": [
    "For **logistic regression** I will check the correlation every WOE to prevent multicollinear effect"
   ]
  },
  {
   "cell_type": "code",
   "execution_count": 17,
   "metadata": {},
   "outputs": [
    {
     "data": {
      "text/plain": [
       "<matplotlib.axes._subplots.AxesSubplot at 0x20fc7a7b488>"
      ]
     },
     "execution_count": 17,
     "metadata": {},
     "output_type": "execute_result"
    },
    {
     "data": {
      "image/png": "[encoded data removed]",
      "text/plain": [
       "<Figure size 1440x1440 with 2 Axes>"
      ]
     },
     "metadata": {
      "needs_background": "light"
     },
     "output_type": "display_data"
    }
   ],
   "source": [
    "plt.figure(figsize=(20,20))\n",
    "sns.heatmap(baf.corr(), cmap = 'coolwarm',annot=True)"
   ]
  },
  {
   "cell_type": "markdown",
   "metadata": {},
   "source": [
    "## 4. Modelling"
   ]
  },
  {
   "cell_type": "markdown",
   "metadata": {},
   "source": [
    "I will try several modelling method for finding the best model to predict term-deposit subscriber. I will try Logistic Regression, Decision Tree, Random Forest, Support Vector Machine, and Neural Network"
   ]
  },
  {
   "cell_type": "markdown",
   "metadata": {},
   "source": [
    "### 4.1 Logistic Regression Model"
   ]
  },
  {
   "cell_type": "markdown",
   "metadata": {},
   "source": [
    "As mentioned before, for logistic regression I have to exclude the highly correlated predictor, so I will exclude **WOE_euribor3m** and **WOE_emp.var.rate'**"
   ]
  },
  {
   "cell_type": "code",
   "execution_count": 18,
   "metadata": {},
   "outputs": [],
   "source": [
    "X = baf.drop(['WOE_euribor3m','WOE_emp.var.rate','y'],axis=1)\n",
    "y = baf['y']"
   ]
  },
  {
   "cell_type": "code",
   "execution_count": 19,
   "metadata": {},
   "outputs": [],
   "source": [
    "from sklearn.model_selection import train_test_split\n",
    "X_train_log, X_test_log, y_train_log, y_test_log = train_test_split(X, y, test_size=0.3,random_state=101)"
   ]
  },
  {
   "cell_type": "markdown",
   "metadata": {},
   "source": [
    "Importing LogisticRegression, fit it to the train data, and predict for the test data. Prediction will be compared to the y_test to get classification matrix"
   ]
  },
  {
   "cell_type": "code",
   "execution_count": 20,
   "metadata": {
    "scrolled": true
   },
   "outputs": [
    {
     "name": "stderr",
     "output_type": "stream",
     "text": [
      "C:\\Users\\GL552VW\\Anaconda3\\lib\\site-packages\\sklearn\\linear_model\\logistic.py:432: FutureWarning: Default solver will be changed to 'lbfgs' in 0.22. Specify a solver to silence this warning.\n",
      "  FutureWarning)\n"
     ]
    }
   ],
   "source": [
    "from sklearn.linear_model import LogisticRegression\n",
    "LogModel = LogisticRegression()\n",
    "LogModel.fit(X_train_log,y_train_log)\n",
    "log_prediction_train = LogModel.predict(X_train_log)\n",
    "log_prediction_test = LogModel.predict(X_test_log)"
   ]
  },
  {
   "cell_type": "markdown",
   "metadata": {},
   "source": [
    "### 4.2 Decision Tree Model"
   ]
  },
  {
   "cell_type": "markdown",
   "metadata": {},
   "source": [
    "Splitting the data to train and test data set"
   ]
  },
  {
   "cell_type": "code",
   "execution_count": 21,
   "metadata": {},
   "outputs": [],
   "source": [
    "X = baf.drop('y',axis=1)\n",
    "y = baf['y']"
   ]
  },
  {
   "cell_type": "code",
   "execution_count": 22,
   "metadata": {},
   "outputs": [],
   "source": [
    "X_train_dt, X_test_dt, y_train_dt, y_test_dt = train_test_split(X, y, test_size=0.5,random_state=101)"
   ]
  },
  {
   "cell_type": "markdown",
   "metadata": {},
   "source": [
    "Importing DecisionTreeClassifier() to develop model based on decision tree algorithm and use it to predict."
   ]
  },
  {
   "cell_type": "code",
   "execution_count": 23,
   "metadata": {},
   "outputs": [],
   "source": [
    "from sklearn.tree import DecisionTreeClassifier\n",
    "dt_model = DecisionTreeClassifier(max_leaf_nodes=10)\n",
    "dt_model.fit(X_train_dt,y_train_dt)\n",
    "\n",
    "dt_prediction_train = dt_model.predict(X_train_dt)\n",
    "dt_prediction_test = dt_model.predict(X_test_dt)"
   ]
  },
  {
   "cell_type": "markdown",
   "metadata": {},
   "source": [
    "### 4.3 Random Forest Model"
   ]
  },
  {
   "cell_type": "markdown",
   "metadata": {},
   "source": [
    "Splitting the data to train and test data set"
   ]
  },
  {
   "cell_type": "code",
   "execution_count": 24,
   "metadata": {},
   "outputs": [],
   "source": [
    "X = baf.drop('y',axis=1)\n",
    "y = baf['y']"
   ]
  },
  {
   "cell_type": "code",
   "execution_count": 25,
   "metadata": {},
   "outputs": [],
   "source": [
    "X_train_rf, X_test_rf, y_train_rf, y_test_rf = train_test_split(X, y, test_size=0.3,random_state=101)"
   ]
  },
  {
   "cell_type": "markdown",
   "metadata": {},
   "source": [
    "Compiling model using Random Forest Algorithm."
   ]
  },
  {
   "cell_type": "code",
   "execution_count": 27,
   "metadata": {},
   "outputs": [
    {
     "data": {
      "text/plain": [
       "RandomForestClassifier(bootstrap=True, class_weight=None, criterion='gini',\n",
       "                       max_depth=None, max_features='auto', max_leaf_nodes=10,\n",
       "                       min_impurity_decrease=0.0, min_impurity_split=None,\n",
       "                       min_samples_leaf=1, min_samples_split=2,\n",
       "                       min_weight_fraction_leaf=0.0, n_estimators=600,\n",
       "                       n_jobs=None, oob_score=False, random_state=None,\n",
       "                       verbose=0, warm_start=False)"
      ]
     },
     "execution_count": 27,
     "metadata": {},
     "output_type": "execute_result"
    }
   ],
   "source": [
    "from sklearn.ensemble import RandomForestClassifier\n",
    "rf_model = RandomForestClassifier(n_estimators=600,max_leaf_nodes=10)\n",
    "rf_model.fit(X_train_rf,y_train_rf)"
   ]
  },
  {
   "cell_type": "markdown",
   "metadata": {},
   "source": [
    "The model used to predict train dataset and test dataset"
   ]
  },
  {
   "cell_type": "code",
   "execution_count": 28,
   "metadata": {},
   "outputs": [],
   "source": [
    "rf_prediction_train = rf_model.predict(X_train_rf)\n",
    "rf_prediction_test = rf_model.predict(X_test_rf)"
   ]
  },
  {
   "cell_type": "markdown",
   "metadata": {},
   "source": [
    "### 4.4 Support Vector Machine Model"
   ]
  },
  {
   "cell_type": "code",
   "execution_count": null,
   "metadata": {},
   "outputs": [],
   "source": [
    "X = baf.drop('y',axis=1).values\n",
    "y = baf['y'].values"
   ]
  },
  {
   "cell_type": "markdown",
   "metadata": {},
   "source": [
    "Splitting the data to train data and test data"
   ]
  },
  {
   "cell_type": "code",
   "execution_count": null,
   "metadata": {},
   "outputs": [],
   "source": [
    "X_train_svc, X_test_svc, y_train_svc, y_test_svc = train_test_split(X, y, test_size=0.3, random_state=101)"
   ]
  },
  {
   "cell_type": "markdown",
   "metadata": {},
   "source": [
    "The data should be scaled first"
   ]
  },
  {
   "cell_type": "code",
   "execution_count": null,
   "metadata": {},
   "outputs": [],
   "source": [
    "from sklearn.preprocessing import StandardScaler\n",
    "scaler = StandardScaler()\n",
    "scaler.fit(X_train_svc)"
   ]
  },
  {
   "cell_type": "code",
   "execution_count": null,
   "metadata": {},
   "outputs": [],
   "source": [
    "X_train_svc = scaler.transform(X_train_svc)\n",
    "X_test_svc = scaler.transform(X_test_svc)"
   ]
  },
  {
   "cell_type": "markdown",
   "metadata": {},
   "source": [
    "Then model compiled with best C and gamma that I find using grid search"
   ]
  },
  {
   "cell_type": "code",
   "execution_count": null,
   "metadata": {},
   "outputs": [],
   "source": [
    "from sklearn.svm import SVC\n",
    "from sklearn.model_selection import GridSearchCV\n",
    "param_grid = {'C': [0.1,1,10,100], 'gamma': [1,0.1,0.01,0.001]} \n",
    "grid = GridSearchCV(SVC(),param_grid,refit=True,verbose=2)\n",
    "grid.fit(X_train_svc,y_train_svc)"
   ]
  },
  {
   "cell_type": "markdown",
   "metadata": {},
   "source": [
    "After compiled, the model used to predict the test data set  "
   ]
  },
  {
   "cell_type": "code",
   "execution_count": null,
   "metadata": {},
   "outputs": [],
   "source": [
    "svc_prediction_train = grid.predict(X_train_svc)\n",
    "svc_prediction_test = grid.predict(X_test_svc)"
   ]
  },
  {
   "cell_type": "markdown",
   "metadata": {},
   "source": [
    "### 4.5 TensorFlow Keras Neural Network Model"
   ]
  },
  {
   "cell_type": "markdown",
   "metadata": {},
   "source": [
    "Keras model only receive data in numpy array format. So for this model I will declare X and y by the values"
   ]
  },
  {
   "cell_type": "code",
   "execution_count": null,
   "metadata": {},
   "outputs": [],
   "source": [
    "X = baf.drop('y',axis=1).values\n",
    "y = baf['y'].values"
   ]
  },
  {
   "cell_type": "markdown",
   "metadata": {},
   "source": [
    "Splitting the data to train data and test data"
   ]
  },
  {
   "cell_type": "code",
   "execution_count": null,
   "metadata": {},
   "outputs": [],
   "source": [
    "X_train_tf, X_test_tf, y_train_tf, y_test_tf = train_test_split(X, y, test_size=0.3, random_state=101)"
   ]
  },
  {
   "cell_type": "markdown",
   "metadata": {},
   "source": [
    "Before using the data, data must be scaled first"
   ]
  },
  {
   "cell_type": "code",
   "execution_count": null,
   "metadata": {},
   "outputs": [],
   "source": [
    "from sklearn.preprocessing import StandardScaler\n",
    "scaler = StandardScaler()\n",
    "scaler.fit(X_train_tf)"
   ]
  },
  {
   "cell_type": "code",
   "execution_count": null,
   "metadata": {},
   "outputs": [],
   "source": [
    "X_train_tf = scaler.transform(X_train_tf)\n",
    "X_test_tf = scaler.transform(X_test_tf)"
   ]
  },
  {
   "cell_type": "markdown",
   "metadata": {},
   "source": [
    "Importing tensorflow, sequential, dense, and dropout"
   ]
  },
  {
   "cell_type": "code",
   "execution_count": null,
   "metadata": {},
   "outputs": [],
   "source": [
    "import tensorflow as tf\n",
    "from tensorflow.keras.models import Sequential\n",
    "from tensorflow.keras.layers import Dense,Dropout"
   ]
  },
  {
   "cell_type": "markdown",
   "metadata": {},
   "source": [
    "Now I'm going to build the model. Because it is binary classification, the last layer should be 1 node only and the last activation function should be sigmoid so the output will be between 0 and 1."
   ]
  },
  {
   "cell_type": "code",
   "execution_count": null,
   "metadata": {},
   "outputs": [],
   "source": [
    "model_tf = Sequential()\n",
    "\n",
    "model_tf.add(Dense(units = 15,activation='sigmoid'))\n",
    "model_tf.add(Dense(units = 8,activation='sigmoid'))\n",
    "model_tf.add(Dense(units = 4,activation='sigmoid'))\n",
    "model_tf.add(Dense(units = 2,activation='sigmoid'))\n",
    "model_tf.add(Dense(units = 1,activation = 'sigmoid'))\n",
    "\n",
    "model_tf.compile(loss='binary_crossentropy',optimizer='adam')"
   ]
  },
  {
   "cell_type": "markdown",
   "metadata": {},
   "source": [
    "After compiling model, I'm going to use callbacks for early stopping before the model get overfitting"
   ]
  },
  {
   "cell_type": "code",
   "execution_count": null,
   "metadata": {},
   "outputs": [],
   "source": [
    "from tensorflow.keras.callbacks import EarlyStopping"
   ]
  },
  {
   "cell_type": "code",
   "execution_count": null,
   "metadata": {},
   "outputs": [],
   "source": [
    "early_stop = EarlyStopping(monitor='val_loss', mode='min', verbose=1, patience=25)"
   ]
  },
  {
   "cell_type": "markdown",
   "metadata": {},
   "source": [
    "Model has been compiled and ready to trained."
   ]
  },
  {
   "cell_type": "code",
   "execution_count": null,
   "metadata": {},
   "outputs": [],
   "source": [
    "model_tf.fit(x=X_train_tf, \n",
    "             y=y_train_tf, \n",
    "             epochs=1000,\n",
    "             validation_data=(X_test_tf, y_test_tf),verbose=1,\n",
    "             callbacks=[early_stop])"
   ]
  },
  {
   "cell_type": "markdown",
   "metadata": {},
   "source": [
    "To cross-check either the model overfitting or not, I plot loss on the training data and test data"
   ]
  },
  {
   "cell_type": "code",
   "execution_count": null,
   "metadata": {
    "scrolled": true
   },
   "outputs": [],
   "source": [
    "model_loss = pd.DataFrame(model_tf.history.history)\n",
    "model_loss.plot()\n",
    "plt.xlabel('Epoch')\n",
    "plt.ylabel('Loss, Val_loss')\n",
    "plt.title('Loss,Val_loss vs Epoch')"
   ]
  },
  {
   "cell_type": "markdown",
   "metadata": {},
   "source": [
    "Because the model seems work well enough where the val_loss flatten and it means it does not overfit the training data, we could use it to predict the test data set"
   ]
  },
  {
   "cell_type": "code",
   "execution_count": null,
   "metadata": {},
   "outputs": [],
   "source": [
    "tf_prediction = model_tf.predict_classes(X_test_tf)"
   ]
  },
  {
   "cell_type": "markdown",
   "metadata": {},
   "source": [
    "### 4.6 XGBoost Model"
   ]
  },
  {
   "cell_type": "code",
   "execution_count": 71,
   "metadata": {},
   "outputs": [],
   "source": [
    "from xgboost import XGBClassifier"
   ]
  },
  {
   "cell_type": "code",
   "execution_count": 72,
   "metadata": {},
   "outputs": [],
   "source": [
    "model = XGBClassifier()"
   ]
  },
  {
   "cell_type": "code",
   "execution_count": 73,
   "metadata": {},
   "outputs": [
    {
     "data": {
      "text/plain": [
       "XGBClassifier(base_score=0.5, booster=None, colsample_bylevel=1,\n",
       "              colsample_bynode=1, colsample_bytree=1, gamma=0, gpu_id=-1,\n",
       "              importance_type='gain', interaction_constraints=None,\n",
       "              learning_rate=0.300000012, max_delta_step=0, max_depth=6,\n",
       "              min_child_weight=1, missing=nan, monotone_constraints=None,\n",
       "              n_estimators=100, n_jobs=0, num_parallel_tree=1,\n",
       "              objective='binary:logistic', random_state=0, reg_alpha=0,\n",
       "              reg_lambda=1, scale_pos_weight=1, subsample=1, tree_method=None,\n",
       "              validate_parameters=False, verbosity=None)"
      ]
     },
     "execution_count": 73,
     "metadata": {},
     "output_type": "execute_result"
    }
   ],
   "source": [
    "model.fit(X_train,y_train)"
   ]
  },
  {
   "cell_type": "code",
   "execution_count": 74,
   "metadata": {},
   "outputs": [],
   "source": [
    "pred = model.predict(X_test)"
   ]
  },
  {
   "cell_type": "code",
   "execution_count": 75,
   "metadata": {},
   "outputs": [
    {
     "data": {
      "image/png": "[encoded data removed]",
      "text/plain": [
       "<Figure size 432x288 with 1 Axes>"
      ]
     },
     "metadata": {
      "needs_background": "light"
     },
     "output_type": "display_data"
    },
    {
     "name": "stdout",
     "output_type": "stream",
     "text": [
      "Gini = 22.9175\n"
     ]
    }
   ],
   "source": [
    "roc_auc_test = roc_auc_score(y_test,pred)\n",
    "\n",
    "fpr, tpr, thresholds = roc_curve(y_test,pred)\n",
    "\n",
    "\n",
    "plt.figure()\n",
    "plt.plot(fpr, tpr,'b', label='AUC = %0.4f' % roc_auc_test)\n",
    "plt.plot([0, 1], [0, 1],'r--')\n",
    "plt.xlim([0.0, 1.0])\n",
    "plt.ylim([0.0, 1.0])\n",
    "plt.xlabel('False Positive Rate')\n",
    "plt.ylabel('True Positive Rate')\n",
    "plt.title('ROC - Logistic Regression')\n",
    "plt.legend(loc=\"lower right\")\n",
    "plt.show() \n",
    "\n",
    "\n",
    "gini = 2*100*(roc_auc_test-0.5)\n",
    "print('Gini = %0.4f'% gini)"
   ]
  },
  {
   "cell_type": "markdown",
   "metadata": {},
   "source": [
    "## 5. Evaluating Model"
   ]
  },
  {
   "cell_type": "markdown",
   "metadata": {},
   "source": [
    "After predict X_test using several algorithm, I will check model's performance using **classification report** and **confusion matrix**"
   ]
  },
  {
   "cell_type": "markdown",
   "metadata": {},
   "source": [
    "### 5.1 Logistic Regression Model"
   ]
  },
  {
   "cell_type": "code",
   "execution_count": 29,
   "metadata": {},
   "outputs": [
    {
     "data": {
      "image/png": "[encoded data removed]",
      "text/plain": [
       "<Figure size 432x288 with 1 Axes>"
      ]
     },
     "metadata": {
      "needs_background": "light"
     },
     "output_type": "display_data"
    },
    {
     "name": "stdout",
     "output_type": "stream",
     "text": [
      "Gini = 18.5430\n"
     ]
    },
    {
     "data": {
      "image/png": "[encoded data removed]",
      "text/plain": [
       "<Figure size 432x288 with 1 Axes>"
      ]
     },
     "metadata": {
      "needs_background": "light"
     },
     "output_type": "display_data"
    },
    {
     "name": "stdout",
     "output_type": "stream",
     "text": [
      "Gini = 19.1298\n"
     ]
    }
   ],
   "source": [
    "from sklearn.metrics import roc_auc_score\n",
    "from sklearn.metrics import roc_curve\n",
    "\n",
    "log_roc_auc_train = roc_auc_score(y_train_log,log_prediction_train)\n",
    "\n",
    "fpr, tpr, thresholds = roc_curve(y_train_log,log_prediction_train)\n",
    "\n",
    "\n",
    "plt.figure()\n",
    "plt.plot(fpr, tpr,'b', label='AUC = %0.4f' % log_roc_auc_train)\n",
    "plt.plot([0, 1], [0, 1],'r--')\n",
    "plt.xlim([0.0, 1.0])\n",
    "plt.ylim([0.0, 1.0])\n",
    "plt.xlabel('False Positive Rate')\n",
    "plt.ylabel('True Positive Rate')\n",
    "plt.title('ROC - Logistic Regression')\n",
    "plt.legend(loc=\"lower right\")\n",
    "plt.show() \n",
    "\n",
    "\n",
    "gini = 2*100*(log_roc_auc_train-0.5)\n",
    "print('Gini = %0.4f'% gini)\n",
    "\n",
    "\n",
    "\n",
    "log_roc_auc_test = roc_auc_score(y_test_log,log_prediction_test)\n",
    "\n",
    "fpr, tpr, thresholds = roc_curve(y_test_log,log_prediction_test)\n",
    "\n",
    "\n",
    "plt.figure()\n",
    "plt.plot(fpr, tpr,'b', label='AUC = %0.4f' % log_roc_auc_test)\n",
    "plt.plot([0, 1], [0, 1],'r--')\n",
    "plt.xlim([0.0, 1.0])\n",
    "plt.ylim([0.0, 1.0])\n",
    "plt.xlabel('False Positive Rate')\n",
    "plt.ylabel('True Positive Rate')\n",
    "plt.title('ROC - Logistic Regression')\n",
    "plt.legend(loc=\"lower right\")\n",
    "plt.show() \n",
    "\n",
    "\n",
    "gini = 2*100*(log_roc_auc_test-0.5)\n",
    "print('Gini = %0.4f'% gini)"
   ]
  },
  {
   "cell_type": "markdown",
   "metadata": {},
   "source": [
    "The accuracy of logistic regression model is around 90% with AUC around 0.57"
   ]
  },
  {
   "cell_type": "markdown",
   "metadata": {},
   "source": [
    "### 5.2 Decision Tree Model"
   ]
  },
  {
   "cell_type": "code",
   "execution_count": 30,
   "metadata": {},
   "outputs": [
    {
     "data": {
      "image/png": "[encoded data removed]",
      "text/plain": [
       "<Figure size 432x288 with 1 Axes>"
      ]
     },
     "metadata": {
      "needs_background": "light"
     },
     "output_type": "display_data"
    },
    {
     "name": "stdout",
     "output_type": "stream",
     "text": [
      "Gini = 22.6039\n"
     ]
    },
    {
     "data": {
      "image/png": "[encoded data removed]",
      "text/plain": [
       "<Figure size 432x288 with 1 Axes>"
      ]
     },
     "metadata": {
      "needs_background": "light"
     },
     "output_type": "display_data"
    },
    {
     "name": "stdout",
     "output_type": "stream",
     "text": [
      "Gini = 21.6261\n"
     ]
    }
   ],
   "source": [
    "from sklearn.metrics import roc_auc_score\n",
    "from sklearn.metrics import roc_curve\n",
    "\n",
    "dt_roc_auc_train = roc_auc_score(y_train_dt,dt_prediction_train)\n",
    "\n",
    "fpr, tpr, thresholds = roc_curve(y_train_dt,dt_prediction_train)\n",
    "\n",
    "plt.figure()\n",
    "plt.plot(fpr, tpr,'b', label='AUC = %0.4f' % dt_roc_auc_train)\n",
    "plt.plot([0, 1], [0, 1],'r--')\n",
    "plt.xlim([0.0, 1.0])\n",
    "plt.ylim([0.0, 1.0])\n",
    "plt.xlabel('False Positive Rate')\n",
    "plt.ylabel('True Positive Rate')\n",
    "plt.title('ROC - Decision Tree Model')\n",
    "plt.legend(loc=\"lower right\")\n",
    "plt.show() \n",
    "\n",
    "gini = 2*100*(dt_roc_auc_train-0.5)\n",
    "print('Gini = %0.4f'% gini)\n",
    "\n",
    "\n",
    "dt_roc_auc_test = roc_auc_score(y_test_dt,dt_prediction_test)\n",
    "\n",
    "fpr, tpr, thresholds = roc_curve(y_test_dt,dt_prediction_test)\n",
    "\n",
    "plt.figure()\n",
    "plt.plot(fpr, tpr,'b', label='AUC = %0.4f' % dt_roc_auc_test)\n",
    "plt.plot([0, 1], [0, 1],'r--')\n",
    "plt.xlim([0.0, 1.0])\n",
    "plt.ylim([0.0, 1.0])\n",
    "plt.xlabel('False Positive Rate')\n",
    "plt.ylabel('True Positive Rate')\n",
    "plt.title('ROC - Decision Tree Model')\n",
    "plt.legend(loc=\"lower right\")\n",
    "plt.show() \n",
    "\n",
    "\n",
    "gini = 2*100*(dt_roc_auc_test-0.5)\n",
    "print('Gini = %0.4f'% gini)"
   ]
  },
  {
   "cell_type": "markdown",
   "metadata": {},
   "source": [
    "The accuracy of Decision Tree Model is around 84 and AUC = 0.61"
   ]
  },
  {
   "cell_type": "markdown",
   "metadata": {},
   "source": [
    "### 5.3 Random Forest Model"
   ]
  },
  {
   "cell_type": "code",
   "execution_count": 31,
   "metadata": {},
   "outputs": [
    {
     "data": {
      "image/png": "[encoded data removed]",
      "text/plain": [
       "<Figure size 432x288 with 1 Axes>"
      ]
     },
     "metadata": {
      "needs_background": "light"
     },
     "output_type": "display_data"
    },
    {
     "name": "stdout",
     "output_type": "stream",
     "text": [
      "Gini = 16.0483\n"
     ]
    },
    {
     "data": {
      "image/png": "[encoded data removed]",
      "text/plain": [
       "<Figure size 432x288 with 1 Axes>"
      ]
     },
     "metadata": {
      "needs_background": "light"
     },
     "output_type": "display_data"
    },
    {
     "name": "stdout",
     "output_type": "stream",
     "text": [
      "Gini = 16.3814\n"
     ]
    }
   ],
   "source": [
    "from sklearn.metrics import roc_auc_score\n",
    "from sklearn.metrics import roc_curve\n",
    "\n",
    "rf_roc_auc_train = roc_auc_score(y_true=y_train_rf,y_score=rf_prediction_train)\n",
    "\n",
    "fpr, tpr, thresholds = roc_curve(y_train_rf,rf_prediction_train)\n",
    "\n",
    "plt.figure()\n",
    "plt.plot(fpr, tpr,'b', label='AUC = %0.4f' % rf_roc_auc_train)\n",
    "plt.plot([0, 1], [0, 1],'r--')\n",
    "plt.xlim([0.0, 1.0])\n",
    "plt.ylim([0.0, 1.0])\n",
    "plt.xlabel('False Positive Rate')\n",
    "plt.ylabel('True Positive Rate')\n",
    "plt.title('ROC - Random Forest Model')\n",
    "plt.legend(loc=\"lower right\")\n",
    "plt.show() \n",
    "\n",
    "gini = 2*100*(rf_roc_auc_train-0.5)\n",
    "print('Gini = %0.4f'% gini)\n",
    "\n",
    "\n",
    "rf_roc_auc_test = roc_auc_score(y_true=y_test_rf,y_score=rf_prediction_test)\n",
    "\n",
    "fpr, tpr, thresholds = roc_curve(y_test_rf,rf_prediction_test)\n",
    "\n",
    "plt.figure()\n",
    "plt.plot(fpr, tpr,'b', label='AUC = %0.4f' % rf_roc_auc_test)\n",
    "plt.plot([0, 1], [0, 1],'r--')\n",
    "plt.xlim([0.0, 1.0])\n",
    "plt.ylim([0.0, 1.0])\n",
    "plt.xlabel('False Positive Rate')\n",
    "plt.ylabel('True Positive Rate')\n",
    "plt.title('ROC - Random Forest Model')\n",
    "plt.legend(loc=\"lower right\")\n",
    "plt.show() \n",
    "\n",
    "gini = 2*100*(rf_roc_auc_test-0.5)\n",
    "print('Gini = %0.4f'% gini)"
   ]
  },
  {
   "cell_type": "markdown",
   "metadata": {},
   "source": [
    "The accuracy of Random Forest Model is around 89% and AUC = 0.63"
   ]
  },
  {
   "cell_type": "markdown",
   "metadata": {},
   "source": [
    "### 5.4 Support Vector Machine Model"
   ]
  },
  {
   "cell_type": "code",
   "execution_count": null,
   "metadata": {},
   "outputs": [],
   "source": [
    "from sklearn.metrics import roc_auc_score\n",
    "from sklearn.metrics import roc_curve\n",
    "\n",
    "svc_roc_auc_train = roc_auc_score(y_true=y_train_svc,y_score=svc_prediction_train)\n",
    "\n",
    "fpr, tpr, thresholds = roc_curve(y_train_svc,svc_prediction_train)\n",
    "\n",
    "plt.figure()\n",
    "plt.plot(fpr, tpr,'b', label='AUC = %0.4f' % svc_roc_auc_train)\n",
    "plt.plot([0, 1], [0, 1],'r--')\n",
    "plt.xlim([0.0, 1.0])\n",
    "plt.ylim([0.0, 1.0])\n",
    "plt.xlabel('False Positive Rate')\n",
    "plt.ylabel('True Positive Rate')\n",
    "plt.title('ROC - SVM Model')\n",
    "plt.legend(loc=\"lower right\")\n",
    "plt.show() \n",
    "\n",
    "gini = 2*(svc_roc_auc_train-0.5)\n",
    "print('Gini = %0.4f'% gini)\n",
    "\n",
    "\n",
    "svc_roc_auc_test = roc_auc_score(y_test_svc,svc_prediction_test)\n",
    "\n",
    "fpr, tpr, thresholds = roc_curve(y_test_svc,svc_prediction_test)\n",
    "\n",
    "plt.figure()\n",
    "plt.plot(fpr, tpr,'b', label='AUC = %0.4f' % svc_roc_auc_train)\n",
    "plt.plot([0, 1], [0, 1],'r--')\n",
    "plt.xlim([0.0, 1.0])\n",
    "plt.ylim([0.0, 1.0])\n",
    "plt.xlabel('False Positive Rate')\n",
    "plt.ylabel('True Positive Rate')\n",
    "plt.title('ROC - SVM Model')\n",
    "plt.legend(loc=\"lower right\")\n",
    "plt.show() \n",
    "\n",
    "\n",
    "gini = 2*(svc_roc_auc_test-0.5)\n",
    "print('Gini = %0.4f'% gini)"
   ]
  },
  {
   "cell_type": "markdown",
   "metadata": {},
   "source": [
    "The accuracy of support vector machine model is around 90% and AUC = 0.58  "
   ]
  },
  {
   "cell_type": "markdown",
   "metadata": {},
   "source": [
    "### 5.5 TensorFlow Keras Neural Network Model"
   ]
  },
  {
   "cell_type": "code",
   "execution_count": null,
   "metadata": {},
   "outputs": [],
   "source": [
    "print(classification_report(y_test_tf,tf_prediction))"
   ]
  },
  {
   "cell_type": "code",
   "execution_count": null,
   "metadata": {},
   "outputs": [],
   "source": [
    "print(confusion_matrix(y_test_tf,tf_prediction))"
   ]
  },
  {
   "cell_type": "code",
   "execution_count": null,
   "metadata": {},
   "outputs": [],
   "source": [
    "from sklearn.metrics import roc_auc_score\n",
    "from sklearn.metrics import roc_curve\n",
    "tf_roc_auc = roc_auc_score(y_test_tf,tf_prediction)\n",
    "\n",
    "fpr, tpr, thresholds = roc_curve(y_test_tf,tf_prediction)\n",
    "\n",
    "\n",
    "plt.figure()\n",
    "plt.plot(fpr, tpr,'b', label='AUC = %0.4f' % tf_roc_auc)\n",
    "plt.plot([0, 1], [0, 1],'r--')\n",
    "plt.xlim([0.0, 1.0])\n",
    "plt.ylim([0.0, 1.0])\n",
    "plt.xlabel('False Positive Rate')\n",
    "plt.ylabel('True Positive Rate')\n",
    "plt.title('ROC - Neural Network')\n",
    "plt.legend(loc=\"lower right\")\n",
    "plt.grid()\n",
    "plt.show() \n",
    "\n",
    "\n",
    "gini = 2*(tf_roc_auc-0.5)\n",
    "print('Gini = %0.4f'% gini)"
   ]
  },
  {
   "cell_type": "markdown",
   "metadata": {},
   "source": [
    "The accuracy of Neural Network model is around 88% and AUC = 0.71"
   ]
  },
  {
   "cell_type": "markdown",
   "metadata": {},
   "source": [
    "## 6. Conclusion "
   ]
  },
  {
   "cell_type": "markdown",
   "metadata": {},
   "source": [
    "Refering the model algorithm I used, the model who has best prediction is Logistic Regression and Support Vector Machine with 90% accuracy but Neural Network gives the best AUC with score 0.71. But due to the customer's group based on their subscriber is **heavily concentrated** to the ones who don't subscribe, I think the better way to see the model performance is using the AUC, so for my data mining process in this project the Neural Network Model gives best performance. Yet, this result still could be developed more by doing more feature engineering, or parameter (C and gamma) in SVM, or maybe for neural network model I need to explore more the possibility of nodes, dense, layer, activation function, etc. "
   ]
  }
 ],
 "metadata": {
  "kernelspec": {
   "display_name": "Python 3",
   "language": "python",
   "name": "python3"
  },
  "language_info": {
   "codemirror_mode": {
    "name": "ipython",
    "version": 3
   },
   "file_extension": ".py",
   "mimetype": "text/x-python",
   "name": "python",
   "nbconvert_exporter": "python",
   "pygments_lexer": "ipython3",
   "version": "3.7.4"
  }
 },
 "nbformat": 4,
 "nbformat_minor": 2
}
